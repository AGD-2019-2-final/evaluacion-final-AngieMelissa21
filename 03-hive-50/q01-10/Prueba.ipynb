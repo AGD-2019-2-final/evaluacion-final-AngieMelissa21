{
 "cells": [
  {
   "cell_type": "code",
   "execution_count": 41,
   "metadata": {},
   "outputs": [
    {
     "name": "stdout",
     "output_type": "stream",
     "text": [
      "The bigdata extension is already loaded. To reload it, use:\n",
      "  %reload_ext bigdata\n"
     ]
    }
   ],
   "source": [
    "%load_ext bigdata"
   ]
  },
  {
   "cell_type": "code",
   "execution_count": 42,
   "metadata": {},
   "outputs": [],
   "source": [
    "%hive_start"
   ]
  },
  {
   "cell_type": "code",
   "execution_count": 31,
   "metadata": {},
   "outputs": [],
   "source": [
    "%timeout 300"
   ]
  },
  {
   "cell_type": "code",
   "execution_count": 94,
   "metadata": {},
   "outputs": [
    {
     "name": "stdout",
     "output_type": "stream",
     "text": [
      "DROP TABLE IF EXISTS data;\n",
      "OK\n",
      "Time taken: 0.464 seconds\n",
      "CREATE TABLE data (\n",
      "    c1 STRING,\n",
      "    c2 STRING,\n",
      "    c3 INT)\n",
      "ROW FORMAT DELIMITED\n",
      "FIELDS TERMINATED BY '\\t'\n",
      "LINES TERMINATED BY '\\n';\n",
      "OK\n",
      "Time taken: 0.101 seconds\n",
      "LOAD DATA LOCAL INPATH 'data.tsv' INTO TABLE data;\n",
      "Loading data to table default.data\n",
      "OK\n",
      "Time taken: 1.703 seconds\n"
     ]
    }
   ],
   "source": [
    "%%hive\n",
    "DROP TABLE IF EXISTS data;\n",
    "\n",
    "CREATE TABLE data (\n",
    "    c1 STRING,\n",
    "    c2 STRING,\n",
    "    c3 INT)\n",
    "ROW FORMAT DELIMITED\n",
    "FIELDS TERMINATED BY '\\t'\n",
    "LINES TERMINATED BY '\\n';\n",
    "LOAD DATA LOCAL INPATH 'data.tsv' INTO TABLE data;"
   ]
  },
  {
   "cell_type": "code",
   "execution_count": 95,
   "metadata": {},
   "outputs": [
    {
     "name": "stdout",
     "output_type": "stream",
     "text": [
      "SELECT * FROM data LIMIT 10;\n",
      "OK\n",
      "B\t1999-08-28\t14\n",
      "E\t1999-12-06\t12\n",
      "E\t1993-07-21\t17\n",
      "C\t1991-02-12\t13\n",
      "E\t1995-04-25\t16\n",
      "A\t1992-08-22\t14\n",
      "B\t1999-06-11\t12\n",
      "E\t1993-01-27\t13\n",
      "E\t1999-09-10\t11\n",
      "E\t1990-05-03\t16\n",
      "Time taken: 0.308 seconds, Fetched: 10 row(s)\n"
     ]
    }
   ],
   "source": [
    "%%hive\n",
    "SELECT * FROM data LIMIT 10;"
   ]
  },
  {
   "cell_type": "code",
   "execution_count": 96,
   "metadata": {},
   "outputs": [
    {
     "name": "stdout",
     "output_type": "stream",
     "text": [
      "DROP TABLE IF EXISTS count_letra;\n",
      "OK\n",
      "Time taken: 0.206 seconds\n",
      "CREATE TABLE count_letra\n",
      "AS\n",
      "    SELECT letra, count(1) AS num\n",
      "    FROM\n",
      "        (SELECT c1 AS letra FROM data) w\n",
      "GROUP BY\n",
      "    letra\n",
      "ORDER BY\n",
      "    letra;\n",
      "WARNING: Hive-on-MR is deprecated in Hive 2 and may not be available in the future versions. Consider using a different execution engine (i.e. spark, tez) or using Hive 1.X releases.\n",
      "Query ID = root_20200203003821_55ae0b3f-09ea-47ce-bf2c-30166efbc4c8\n",
      "Total jobs = 2\n",
      "Launching Job 1 out of 2\n",
      "Number of reduce tasks not specified. Estimated from input data size: 1\n",
      "In order to change the average load for a reducer (in bytes):\n",
      "  set hive.exec.reducers.bytes.per.reducer=<number>\n",
      "In order to limit the maximum number of reducers:\n",
      "  set hive.exec.reducers.max=<number>\n",
      "In order to set a constant number of reducers:\n",
      "  set mapreduce.job.reduces=<number>\n",
      "Starting Job = job_1580680475277_0016, Tracking URL = http://62101e4655e1:8088/proxy/application_1580680475277_0016/\n",
      "Kill Command = /usr/local/hadoop/bin/hadoop job  -kill job_1580680475277_0016\n",
      "Hadoop job information for Stage-1: number of mappers: 1; number of reducers: 1\n",
      "2020-02-03 00:38:46,257 Stage-1 map = 0%,  reduce = 0%\n",
      "2020-02-03 00:39:00,506 Stage-1 map = 100%,  reduce = 0%, Cumulative CPU 5.29 sec\n",
      "2020-02-03 00:39:20,460 Stage-1 map = 100%,  reduce = 100%, Cumulative CPU 17.75 sec\n",
      "MapReduce Total cumulative CPU time: 17 seconds 750 msec\n",
      "Ended Job = job_1580680475277_0016\n",
      "Launching Job 2 out of 2\n",
      "Number of reduce tasks determined at compile time: 1\n",
      "In order to change the average load for a reducer (in bytes):\n",
      "  set hive.exec.reducers.bytes.per.reducer=<number>\n",
      "In order to limit the maximum number of reducers:\n",
      "  set hive.exec.reducers.max=<number>\n",
      "In order to set a constant number of reducers:\n",
      "  set mapreduce.job.reduces=<number>\n",
      "Starting Job = job_1580680475277_0017, Tracking URL = http://62101e4655e1:8088/proxy/application_1580680475277_0017/\n",
      "Kill Command = /usr/local/hadoop/bin/hadoop job  -kill job_1580680475277_0017\n",
      "Hadoop job information for Stage-2: number of mappers: 1; number of reducers: 1\n",
      "2020-02-03 00:40:02,775 Stage-2 map = 0%,  reduce = 0%\n",
      "2020-02-03 00:40:26,119 Stage-2 map = 100%,  reduce = 0%, Cumulative CPU 5.68 sec\n",
      "2020-02-03 00:40:48,180 Stage-2 map = 100%,  reduce = 100%, Cumulative CPU 14.24 sec\n",
      "MapReduce Total cumulative CPU time: 14 seconds 240 msec\n",
      "Ended Job = job_1580680475277_0017\n",
      "Moving data to directory hdfs://0.0.0.0:9000/user/hive/warehouse/count_letra\n",
      "MapReduce Jobs Launched: \n",
      "Stage-Stage-1: Map: 1  Reduce: 1   Cumulative CPU: 17.75 sec   HDFS Read: 7824 HDFS Write: 196 SUCCESS\n",
      "Stage-Stage-2: Map: 1  Reduce: 1   Cumulative CPU: 14.24 sec   HDFS Read: 5343 HDFS Write: 98 SUCCESS\n",
      "Total MapReduce CPU Time Spent: 31 seconds 990 msec\n",
      "OK\n",
      "Time taken: 151.691 seconds\n"
     ]
    }
   ],
   "source": [
    "%%hive\n",
    "DROP TABLE IF EXISTS count_letra;\n",
    "CREATE TABLE count_letra\n",
    "AS\n",
    "    SELECT letra, count(1) AS num\n",
    "    FROM\n",
    "        (SELECT c1 AS letra FROM data) w\n",
    "GROUP BY\n",
    "    letra\n",
    "ORDER BY\n",
    "    letra;"
   ]
  },
  {
   "cell_type": "code",
   "execution_count": 97,
   "metadata": {},
   "outputs": [
    {
     "name": "stdout",
     "output_type": "stream",
     "text": [
      "SELECT * FROM count_letra LIMIT 10;\n",
      "OK\n",
      "A\t12\n",
      "B\t10\n",
      "C\t4\n",
      "D\t1\n",
      "E\t13\n",
      "Time taken: 0.522 seconds, Fetched: 5 row(s)\n"
     ]
    }
   ],
   "source": [
    "%%hive\n",
    "SELECT * FROM count_letra LIMIT 10;"
   ]
  },
  {
   "cell_type": "code",
   "execution_count": 89,
   "metadata": {},
   "outputs": [
    {
     "name": "stdout",
     "output_type": "stream",
     "text": [
      "INSERT OVERWRITE DIRECTORY '/tmp/output'\n",
      "ROW FORMAT DELIMITED FIELDS TERMINATED BY ','\n",
      "SELECT * FROM count_letra;\n",
      "WARNING: Hive-on-MR is deprecated in Hive 2 and may not be available in the future versions. Consider using a different execution engine (i.e. spark, tez) or using Hive 1.X releases.\n",
      "Query ID = root_20200203003025_38636cd4-6cf5-4df1-9a6a-6df48b948bf0\n",
      "Total jobs = 3\n",
      "Launching Job 1 out of 3\n",
      "Number of reduce tasks is set to 0 since there's no reduce operator\n",
      "Starting Job = job_1580680475277_0013, Tracking URL = http://62101e4655e1:8088/proxy/application_1580680475277_0013/\n",
      "Kill Command = /usr/local/hadoop/bin/hadoop job  -kill job_1580680475277_0013\n",
      "Hadoop job information for Stage-1: number of mappers: 1; number of reducers: 0\n",
      "2020-02-03 00:31:00,467 Stage-1 map = 0%,  reduce = 0%\n",
      "2020-02-03 00:31:18,629 Stage-1 map = 100%,  reduce = 0%, Cumulative CPU 8.15 sec\n",
      "MapReduce Total cumulative CPU time: 8 seconds 150 msec\n",
      "Ended Job = job_1580680475277_0013\n",
      "Stage-3 is selected by condition resolver.\n",
      "Stage-2 is filtered out by condition resolver.\n",
      "Stage-4 is filtered out by condition resolver.\n",
      "Moving data to directory hdfs://0.0.0.0:9000/tmp/output/.hive-staging_hive_2020-02-03_00-30-25_415_2102981930722482160-1/-ext-10000\n",
      "Moving data to directory /tmp/output\n",
      "MapReduce Jobs Launched: \n",
      "Stage-Stage-1: Map: 1   Cumulative CPU: 8.15 sec   HDFS Read: 3399 HDFS Write: 23 SUCCESS\n",
      "Total MapReduce CPU Time Spent: 8 seconds 150 msec\n",
      "OK\n",
      "Time taken: 56.728 seconds\n"
     ]
    }
   ],
   "source": [
    "%%hive\n",
    "INSERT OVERWRITE DIRECTORY '/tmp/output'\n",
    "ROW FORMAT DELIMITED FIELDS TERMINATED BY ','\n",
    "SELECT * FROM count_letra;"
   ]
  },
  {
   "cell_type": "code",
   "execution_count": 90,
   "metadata": {},
   "outputs": [],
   "source": [
    "!hdfs dfs -copyToLocal /tmp/output output"
   ]
  },
  {
   "cell_type": "code",
   "execution_count": 79,
   "metadata": {},
   "outputs": [
    {
     "name": "stdout",
     "output_type": "stream",
     "text": [
      "Found 2 items\n",
      "drwxrwx---   - root supergroup          0 2020-02-02 21:56 /tmp/hadoop-yarn\n",
      "drwxrwxrwx   - root supergroup          0 2020-02-02 22:12 /tmp/hive\n"
     ]
    }
   ],
   "source": [
    "!hdfs dfs -ls /tmp"
   ]
  },
  {
   "cell_type": "code",
   "execution_count": 102,
   "metadata": {},
   "outputs": [
    {
     "name": "stdout",
     "output_type": "stream",
     "text": [
      "Deleted /tmp/output/000000_0\n"
     ]
    }
   ],
   "source": [
    "!hadoop fs -rm /tmp/output/*"
   ]
  },
  {
   "cell_type": "code",
   "execution_count": 103,
   "metadata": {},
   "outputs": [],
   "source": [
    "!hadoop fs -rmdir /tmp/output"
   ]
  },
  {
   "cell_type": "code",
   "execution_count": 104,
   "metadata": {},
   "outputs": [],
   "source": [
    "!hdfs dfs -mkdir /tmp/output"
   ]
  },
  {
   "cell_type": "code",
   "execution_count": 101,
   "metadata": {},
   "outputs": [],
   "source": [
    "%hive_quit"
   ]
  },
  {
   "cell_type": "code",
   "execution_count": null,
   "metadata": {},
   "outputs": [],
   "source": []
  }
 ],
 "metadata": {
  "kernelspec": {
   "display_name": "Python 3",
   "language": "python",
   "name": "python3"
  },
  "language_info": {
   "codemirror_mode": {
    "name": "ipython",
    "version": 3
   },
   "file_extension": ".py",
   "mimetype": "text/x-python",
   "name": "python",
   "nbconvert_exporter": "python",
   "pygments_lexer": "ipython3",
   "version": "3.6.9"
  }
 },
 "nbformat": 4,
 "nbformat_minor": 4
}
