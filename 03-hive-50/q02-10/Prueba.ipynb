{
 "cells": [
  {
   "cell_type": "code",
   "execution_count": 1,
   "metadata": {},
   "outputs": [],
   "source": [
    "%load_ext bigdata"
   ]
  },
  {
   "cell_type": "code",
   "execution_count": 4,
   "metadata": {},
   "outputs": [],
   "source": [
    "%hive_start"
   ]
  },
  {
   "cell_type": "code",
   "execution_count": 3,
   "metadata": {},
   "outputs": [],
   "source": [
    "%timeout 300"
   ]
  },
  {
   "cell_type": "code",
   "execution_count": 6,
   "metadata": {},
   "outputs": [
    {
     "name": "stdout",
     "output_type": "stream",
     "text": [
      "DROP TABLE IF EXISTS data;\n",
      "OK\n",
      "Time taken: 0.275 seconds\n",
      "CREATE TABLE data (\n",
      "    c1 STRING,\n",
      "    c2 STRING,\n",
      "    c3 INT)\n",
      "ROW FORMAT DELIMITED\n",
      "FIELDS TERMINATED BY '\\t'\n",
      "LINES TERMINATED BY '\\n';\n",
      "OK\n",
      "Time taken: 0.185 seconds\n",
      "LOAD DATA LOCAL INPATH 'data.tsv' INTO TABLE data;\n",
      "Loading data to table default.data\n",
      "OK\n",
      "Time taken: 1.986 seconds\n"
     ]
    }
   ],
   "source": [
    "%%hive\n",
    "DROP TABLE IF EXISTS data;\n",
    "\n",
    "CREATE TABLE data (\n",
    "    c1 STRING,\n",
    "    c2 STRING,\n",
    "    c3 INT)\n",
    "ROW FORMAT DELIMITED\n",
    "FIELDS TERMINATED BY '\\t'\n",
    "LINES TERMINATED BY '\\n';\n",
    "LOAD DATA LOCAL INPATH 'data.tsv' INTO TABLE data;"
   ]
  },
  {
   "cell_type": "code",
   "execution_count": 8,
   "metadata": {},
   "outputs": [
    {
     "name": "stdout",
     "output_type": "stream",
     "text": [
      "SELECT * FROM data LIMIT 10;\n",
      "OK\n",
      "B\t1999-08-28\t14\n",
      "E\t1999-12-06\t12\n",
      "E\t1993-07-21\t17\n",
      "C\t1991-02-12\t13\n",
      "E\t1995-04-25\t16\n",
      "A\t1992-08-22\t14\n",
      "B\t1999-06-11\t12\n",
      "E\t1993-01-27\t13\n",
      "E\t1999-09-10\t11\n",
      "E\t1990-05-03\t16\n",
      "Time taken: 3.867 seconds, Fetched: 10 row(s)\n"
     ]
    }
   ],
   "source": [
    "%%hive\n",
    "SELECT * FROM data LIMIT 10;"
   ]
  },
  {
   "cell_type": "code",
   "execution_count": 10,
   "metadata": {},
   "outputs": [
    {
     "name": "stdout",
     "output_type": "stream",
     "text": [
      "DROP TABLE IF EXISTS tabla1;\n",
      "OK\n",
      "Time taken: 0.406 seconds\n",
      "CREATE TABLE tabla1\n",
      "AS\n",
      "    SELECT DISTINCT c3 FROM data\n",
      "ORDER BY\n",
      "    c3 ASC\n",
      "LIMIT\n",
      "    5;\n",
      "WARNING: Hive-on-MR is deprecated in Hive 2 and may not be available in the future versions. Consider using a different execution engine (i.e. spark, tez) or using Hive 1.X releases.\n",
      "Query ID = root_20200205005051_65e3bbb4-87f0-4aa0-bb2d-413477e69a5f\n",
      "Total jobs = 2\n",
      "Launching Job 1 out of 2\n",
      "Number of reduce tasks not specified. Estimated from input data size: 1\n",
      "In order to change the average load for a reducer (in bytes):\n",
      "  set hive.exec.reducers.bytes.per.reducer=<number>\n",
      "In order to limit the maximum number of reducers:\n",
      "  set hive.exec.reducers.max=<number>\n",
      "In order to set a constant number of reducers:\n",
      "  set mapreduce.job.reduces=<number>\n",
      "Starting Job = job_1580860424032_0003, Tracking URL = http://f6bf3f7096b1:8088/proxy/application_1580860424032_0003/\n",
      "Kill Command = /usr/local/hadoop/bin/hadoop job  -kill job_1580860424032_0003\n",
      "Hadoop job information for Stage-1: number of mappers: 1; number of reducers: 1\n",
      "2020-02-05 00:51:19,588 Stage-1 map = 0%,  reduce = 0%\n",
      "2020-02-05 00:51:35,534 Stage-1 map = 100%,  reduce = 0%, Cumulative CPU 5.56 sec\n",
      "2020-02-05 00:51:53,910 Stage-1 map = 100%,  reduce = 100%, Cumulative CPU 10.21 sec\n",
      "MapReduce Total cumulative CPU time: 10 seconds 210 msec\n",
      "Ended Job = job_1580860424032_0003\n",
      "Launching Job 2 out of 2\n",
      "Number of reduce tasks determined at compile time: 1\n",
      "In order to change the average load for a reducer (in bytes):\n",
      "  set hive.exec.reducers.bytes.per.reducer=<number>\n",
      "In order to limit the maximum number of reducers:\n",
      "  set hive.exec.reducers.max=<number>\n",
      "In order to set a constant number of reducers:\n",
      "  set mapreduce.job.reduces=<number>\n",
      "Starting Job = job_1580860424032_0004, Tracking URL = http://f6bf3f7096b1:8088/proxy/application_1580860424032_0004/\n",
      "Kill Command = /usr/local/hadoop/bin/hadoop job  -kill job_1580860424032_0004\n",
      "Hadoop job information for Stage-2: number of mappers: 1; number of reducers: 1\n",
      "2020-02-05 00:52:23,331 Stage-2 map = 0%,  reduce = 0%\n",
      "2020-02-05 00:52:38,553 Stage-2 map = 100%,  reduce = 0%, Cumulative CPU 7.61 sec\n",
      "2020-02-05 00:52:56,646 Stage-2 map = 100%,  reduce = 100%, Cumulative CPU 17.87 sec\n",
      "MapReduce Total cumulative CPU time: 17 seconds 870 msec\n",
      "Ended Job = job_1580860424032_0004\n",
      "Moving data to directory hdfs://0.0.0.0:9000/user/hive/warehouse/tabla1\n",
      "MapReduce Jobs Launched: \n",
      "Stage-Stage-1: Map: 1  Reduce: 1   Cumulative CPU: 10.21 sec   HDFS Read: 7300 HDFS Write: 186 SUCCESS\n",
      "Stage-Stage-2: Map: 1  Reduce: 1   Cumulative CPU: 17.87 sec   HDFS Read: 4824 HDFS Write: 82 SUCCESS\n",
      "Total MapReduce CPU Time Spent: 28 seconds 80 msec\n",
      "OK\n",
      "Time taken: 128.599 seconds\n"
     ]
    }
   ],
   "source": [
    "%%hive\n",
    "DROP TABLE IF EXISTS tabla1;\n",
    "CREATE TABLE tabla1\n",
    "AS\n",
    "    SELECT DISTINCT c3 FROM data\n",
    "ORDER BY\n",
    "    c3 ASC\n",
    "LIMIT\n",
    "    5;"
   ]
  },
  {
   "cell_type": "code",
   "execution_count": 11,
   "metadata": {},
   "outputs": [
    {
     "name": "stdout",
     "output_type": "stream",
     "text": [
      "SELECT * FROM tabla1 LIMIT 10;\n",
      "OK\n",
      "5\n",
      "6\n",
      "7\n",
      "10\n",
      "11\n",
      "Time taken: 0.392 seconds, Fetched: 5 row(s)\n"
     ]
    }
   ],
   "source": [
    "%%hive\n",
    "SELECT * FROM tabla1 LIMIT 10;"
   ]
  },
  {
   "cell_type": "code",
   "execution_count": 29,
   "metadata": {},
   "outputs": [
    {
     "name": "stdout",
     "output_type": "stream",
     "text": [
      "DROP TABLE IF EXISTS ordenado;\n",
      "OK\n",
      "Time taken: 26.728 seconds\n",
      "CREATE TABLE ordenado\n",
      "AS\n",
      "    SELECT * FROM data\n",
      "ORDER BY\n",
      "    c1, c3, c2;\n",
      "WARNING: Hive-on-MR is deprecated in Hive 2 and may not be available in the future versions. Consider using a different execution engine (i.e. spark, tez) or using Hive 1.X releases.\n",
      "Query ID = root_20200203015024_dd69c242-1a14-4220-971e-c9267d8dd1f9\n",
      "Total jobs = 1\n",
      "Launching Job 1 out of 1\n",
      "Number of reduce tasks determined at compile time: 1\n",
      "In order to change the average load for a reducer (in bytes):\n",
      "  set hive.exec.reducers.bytes.per.reducer=<number>\n",
      "In order to limit the maximum number of reducers:\n",
      "  set hive.exec.reducers.max=<number>\n",
      "In order to set a constant number of reducers:\n",
      "  set mapreduce.job.reduces=<number>\n",
      "Starting Job = job_1580680475277_0032, Tracking URL = http://62101e4655e1:8088/proxy/application_1580680475277_0032/\n",
      "Kill Command = /usr/local/hadoop/bin/hadoop job  -kill job_1580680475277_0032\n",
      "Hadoop job information for Stage-1: number of mappers: 1; number of reducers: 1\n",
      "2020-02-03 01:50:56,463 Stage-1 map = 0%,  reduce = 0%\n",
      "2020-02-03 01:51:11,116 Stage-1 map = 100%,  reduce = 0%, Cumulative CPU 7.37 sec\n",
      "2020-02-03 01:51:26,379 Stage-1 map = 100%,  reduce = 100%, Cumulative CPU 15.77 sec\n",
      "MapReduce Total cumulative CPU time: 15 seconds 770 msec\n",
      "Ended Job = job_1580680475277_0032\n",
      "Moving data to directory hdfs://0.0.0.0:9000/user/hive/warehouse/ordenado\n",
      "MapReduce Jobs Launched: \n",
      "Stage-Stage-1: Map: 1  Reduce: 1   Cumulative CPU: 15.77 sec   HDFS Read: 7821 HDFS Write: 710 SUCCESS\n",
      "Total MapReduce CPU Time Spent: 15 seconds 770 msec\n",
      "OK\n",
      "Time taken: 67.282 seconds\n"
     ]
    }
   ],
   "source": [
    "%%hive\n",
    "DROP TABLE IF EXISTS ordenado;\n",
    "CREATE TABLE ordenado\n",
    "AS\n",
    "    SELECT * FROM data\n",
    "ORDER BY\n",
    "    c1, c3, c2;"
   ]
  },
  {
   "cell_type": "code",
   "execution_count": 32,
   "metadata": {},
   "outputs": [
    {
     "name": "stdout",
     "output_type": "stream",
     "text": [
      "SELECT * FROM ordenado LIMIT 50;\n",
      "OK\n",
      "A\t1990-10-06\t10\n",
      "A\t1990-09-05\t11\n",
      "A\t1988-04-27\t12\n",
      "A\t1990-08-31\t12\n",
      "A\t1994-10-25\t13\n",
      "A\t1997-12-15\t13\n",
      "A\t1990-09-26\t14\n",
      "A\t1992-08-22\t14\n",
      "A\t1993-01-11\t14\n",
      "A\t1993-05-08\t16\n",
      "A\t1990-07-22\t18\n",
      "A\t1992-09-19\t18\n",
      "B\t1995-08-23\t10\n",
      "B\t1999-06-11\t12\n",
      "B\t1998-11-22\t13\n",
      "B\t1999-10-21\t13\n",
      "B\t1993-03-02\t14\n",
      "B\t1995-09-06\t14\n",
      "B\t1997-04-09\t14\n",
      "B\t1999-08-28\t14\n",
      "B\t1991-10-01\t15\n",
      "B\t1994-08-30\t17\n",
      "C\t1994-01-25\t6\n",
      "C\t1994-07-27\t7\n",
      "C\t1991-02-12\t13\n",
      "C\t1994-09-09\t15\n",
      "D\t1990-10-10\t15\n",
      "E\t1994-02-14\t5\n",
      "E\t1999-09-10\t11\n",
      "E\t1999-12-06\t12\n",
      "E\t1993-01-27\t13\n",
      "E\t1991-02-18\t14\n",
      "E\t1999-01-14\t15\n",
      "E\t1985-02-12\t16\n",
      "E\t1990-05-03\t16\n",
      "E\t1995-04-25\t16\n",
      "E\t1998-09-14\t16\n",
      "E\t1993-07-21\t17\n",
      "E\t1990-02-09\t18\n",
      "E\t1993-12-27\t18\n",
      "Time taken: 34.735 seconds, Fetched: 40 row(s)\n"
     ]
    }
   ],
   "source": [
    "%%hive\n",
    "SELECT * FROM ordenado LIMIT 50;"
   ]
  },
  {
   "cell_type": "code",
   "execution_count": 89,
   "metadata": {},
   "outputs": [
    {
     "name": "stdout",
     "output_type": "stream",
     "text": [
      "INSERT OVERWRITE DIRECTORY '/tmp/output'\n",
      "ROW FORMAT DELIMITED FIELDS TERMINATED BY ','\n",
      "SELECT * FROM count_letra;\n",
      "WARNING: Hive-on-MR is deprecated in Hive 2 and may not be available in the future versions. Consider using a different execution engine (i.e. spark, tez) or using Hive 1.X releases.\n",
      "Query ID = root_20200203003025_38636cd4-6cf5-4df1-9a6a-6df48b948bf0\n",
      "Total jobs = 3\n",
      "Launching Job 1 out of 3\n",
      "Number of reduce tasks is set to 0 since there's no reduce operator\n",
      "Starting Job = job_1580680475277_0013, Tracking URL = http://62101e4655e1:8088/proxy/application_1580680475277_0013/\n",
      "Kill Command = /usr/local/hadoop/bin/hadoop job  -kill job_1580680475277_0013\n",
      "Hadoop job information for Stage-1: number of mappers: 1; number of reducers: 0\n",
      "2020-02-03 00:31:00,467 Stage-1 map = 0%,  reduce = 0%\n",
      "2020-02-03 00:31:18,629 Stage-1 map = 100%,  reduce = 0%, Cumulative CPU 8.15 sec\n",
      "MapReduce Total cumulative CPU time: 8 seconds 150 msec\n",
      "Ended Job = job_1580680475277_0013\n",
      "Stage-3 is selected by condition resolver.\n",
      "Stage-2 is filtered out by condition resolver.\n",
      "Stage-4 is filtered out by condition resolver.\n",
      "Moving data to directory hdfs://0.0.0.0:9000/tmp/output/.hive-staging_hive_2020-02-03_00-30-25_415_2102981930722482160-1/-ext-10000\n",
      "Moving data to directory /tmp/output\n",
      "MapReduce Jobs Launched: \n",
      "Stage-Stage-1: Map: 1   Cumulative CPU: 8.15 sec   HDFS Read: 3399 HDFS Write: 23 SUCCESS\n",
      "Total MapReduce CPU Time Spent: 8 seconds 150 msec\n",
      "OK\n",
      "Time taken: 56.728 seconds\n"
     ]
    }
   ],
   "source": [
    "%%hive\n",
    "INSERT OVERWRITE DIRECTORY '/tmp/output'\n",
    "ROW FORMAT DELIMITED FIELDS TERMINATED BY ','\n",
    "SELECT * FROM count_letra;"
   ]
  },
  {
   "cell_type": "code",
   "execution_count": 90,
   "metadata": {},
   "outputs": [],
   "source": [
    "!hdfs dfs -copyToLocal /tmp/output output"
   ]
  },
  {
   "cell_type": "code",
   "execution_count": 79,
   "metadata": {},
   "outputs": [
    {
     "name": "stdout",
     "output_type": "stream",
     "text": [
      "Found 2 items\n",
      "drwxrwx---   - root supergroup          0 2020-02-02 21:56 /tmp/hadoop-yarn\n",
      "drwxrwxrwx   - root supergroup          0 2020-02-02 22:12 /tmp/hive\n"
     ]
    }
   ],
   "source": [
    "!hdfs dfs -ls /tmp"
   ]
  },
  {
   "cell_type": "code",
   "execution_count": 102,
   "metadata": {},
   "outputs": [
    {
     "name": "stdout",
     "output_type": "stream",
     "text": [
      "Deleted /tmp/output/000000_0\n"
     ]
    }
   ],
   "source": [
    "!hadoop fs -rm /tmp/output/*"
   ]
  },
  {
   "cell_type": "code",
   "execution_count": 103,
   "metadata": {},
   "outputs": [],
   "source": [
    "!hadoop fs -rmdir /tmp/output"
   ]
  },
  {
   "cell_type": "code",
   "execution_count": 104,
   "metadata": {},
   "outputs": [],
   "source": [
    "!hdfs dfs -mkdir /tmp/output"
   ]
  },
  {
   "cell_type": "code",
   "execution_count": 12,
   "metadata": {},
   "outputs": [],
   "source": [
    "%hive_quit"
   ]
  },
  {
   "cell_type": "code",
   "execution_count": null,
   "metadata": {},
   "outputs": [],
   "source": []
  }
 ],
 "metadata": {
  "kernelspec": {
   "display_name": "Python 3",
   "language": "python",
   "name": "python3"
  },
  "language_info": {
   "codemirror_mode": {
    "name": "ipython",
    "version": 3
   },
   "file_extension": ".py",
   "mimetype": "text/x-python",
   "name": "python",
   "nbconvert_exporter": "python",
   "pygments_lexer": "ipython3",
   "version": "3.6.9"
  }
 },
 "nbformat": 4,
 "nbformat_minor": 4
}
