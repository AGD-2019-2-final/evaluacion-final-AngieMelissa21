{
 "cells": [
  {
   "cell_type": "code",
   "execution_count": 2,
   "metadata": {},
   "outputs": [],
   "source": [
    "%load_ext bigdata"
   ]
  },
  {
   "cell_type": "code",
   "execution_count": 3,
   "metadata": {},
   "outputs": [],
   "source": [
    "%hive_start"
   ]
  },
  {
   "cell_type": "code",
   "execution_count": 4,
   "metadata": {},
   "outputs": [],
   "source": [
    "%timeout 300"
   ]
  },
  {
   "cell_type": "code",
   "execution_count": 30,
   "metadata": {},
   "outputs": [],
   "source": [
    "%hive_quit"
   ]
  },
  {
   "cell_type": "code",
   "execution_count": 5,
   "metadata": {},
   "outputs": [
    {
     "name": "stdout",
     "output_type": "stream",
     "text": [
      "DROP TABLE IF EXISTS tbl0;\n",
      "OK\n",
      "Time taken: 25.98 seconds\n",
      "CREATE TABLE tbl0 (\n",
      "    c1 INT,\n",
      "    c2 STRING,\n",
      "    c3 INT,\n",
      "    c4 DATE,\n",
      "    c5 ARRAY<CHAR(1)>, \n",
      "    c6 MAP<STRING, INT>\n",
      ")\n",
      "ROW FORMAT DELIMITED \n",
      "FIELDS TERMINATED BY ','\n",
      "COLLECTION ITEMS TERMINATED BY ':'\n",
      "MAP KEYS TERMINATED BY '#'\n",
      "LINES TERMINATED BY '\\n';\n",
      "OK\n",
      "Time taken: 2.548 seconds\n",
      "LOAD DATA LOCAL INPATH 'tbl0.csv' INTO TABLE tbl0;\n",
      "Loading data to table default.tbl0\n",
      "OK\n",
      "Time taken: 3.033 seconds\n"
     ]
    }
   ],
   "source": [
    "%%hive\n",
    "DROP TABLE IF EXISTS tbl0;\n",
    "CREATE TABLE tbl0 (\n",
    "    c1 INT,\n",
    "    c2 STRING,\n",
    "    c3 INT,\n",
    "    c4 DATE,\n",
    "    c5 ARRAY<CHAR(1)>, \n",
    "    c6 MAP<STRING, INT>\n",
    ")\n",
    "ROW FORMAT DELIMITED \n",
    "FIELDS TERMINATED BY ','\n",
    "COLLECTION ITEMS TERMINATED BY ':'\n",
    "MAP KEYS TERMINATED BY '#'\n",
    "LINES TERMINATED BY '\\n';\n",
    "LOAD DATA LOCAL INPATH 'tbl0.csv' INTO TABLE tbl0;"
   ]
  },
  {
   "cell_type": "code",
   "execution_count": 26,
   "metadata": {},
   "outputs": [
    {
     "name": "stdout",
     "output_type": "stream",
     "text": [
      "DROP TABLE IF EXISTS tabla1;\n",
      "OK\n",
      "Time taken: 0.17 seconds\n",
      "CREATE TABLE tabla1\n",
      "AS\n",
      "    SELECT concat_ws(':',c5) AS col FROM tbl0;\n",
      "WARNING: Hive-on-MR is deprecated in Hive 2 and may not be available in the future versions. Consider using a different execution engine (i.e. spark, tez) or using Hive 1.X releases.\n",
      "Query ID = root_20200208004436_fb1f5fbf-c33d-4836-a7ed-a3468de70082\n",
      "Total jobs = 3\n",
      "Launching Job 1 out of 3\n",
      "Number of reduce tasks is set to 0 since there's no reduce operator\n",
      "Starting Job = job_1581114677533_0033, Tracking URL = http://b29a149d01a3:8088/proxy/application_1581114677533_0033/\n",
      "Kill Command = /usr/local/hadoop/bin/hadoop job  -kill job_1581114677533_0033\n",
      "Hadoop job information for Stage-1: number of mappers: 1; number of reducers: 0\n",
      "2020-02-08 00:45:06,020 Stage-1 map = 0%,  reduce = 0%\n",
      "2020-02-08 00:45:30,832 Stage-1 map = 100%,  reduce = 0%, Cumulative CPU 10.93 sec\n",
      "MapReduce Total cumulative CPU time: 10 seconds 930 msec\n",
      "Ended Job = job_1581114677533_0033\n",
      "Stage-4 is selected by condition resolver.\n",
      "Stage-3 is filtered out by condition resolver.\n",
      "Stage-5 is filtered out by condition resolver.\n",
      "Moving data to directory hdfs://0.0.0.0:9000/user/hive/warehouse/.hive-staging_hive_2020-02-08_00-44-36_308_5142156298911091366-1/-ext-10002\n",
      "Moving data to directory hdfs://0.0.0.0:9000/user/hive/warehouse/tabla1\n",
      "MapReduce Jobs Launched: \n",
      "Stage-Stage-1: Map: 1   Cumulative CPU: 10.93 sec   HDFS Read: 4695 HDFS Write: 138 SUCCESS\n",
      "Total MapReduce CPU Time Spent: 10 seconds 930 msec\n",
      "OK\n",
      "Time taken: 56.707 seconds\n"
     ]
    }
   ],
   "source": [
    "%%hive\n",
    "DROP TABLE IF EXISTS tabla1;\n",
    "CREATE TABLE tabla1\n",
    "AS\n",
    "    SELECT concat_ws(':',c5) AS col FROM tbl0;"
   ]
  },
  {
   "cell_type": "code",
   "execution_count": 19,
   "metadata": {},
   "outputs": [
    {
     "name": "stdout",
     "output_type": "stream",
     "text": [
      "SELECT concat_ws(':',c5) FROM tbl0 LIMIT 10;\n",
      "OK\n",
      "a:e:c:d\n",
      "a:c\n",
      "b:d\n",
      "a:c:e:b:d\n",
      "d:e:c\n",
      "a:d\n",
      "a:e:d\n",
      "d:a:c:e\n",
      "b:a:c:e\n",
      "c:d:e:a:b\n",
      "Time taken: 0.376 seconds, Fetched: 10 row(s)\n"
     ]
    }
   ],
   "source": [
    "%%hive\n",
    "SELECT concat_ws(':',c5) FROM tbl0 LIMIT 10;"
   ]
  },
  {
   "cell_type": "code",
   "execution_count": 27,
   "metadata": {},
   "outputs": [
    {
     "name": "stdout",
     "output_type": "stream",
     "text": [
      "DESCRIBE tabla1;\n",
      "OK\n",
      "col                 \tstring              \t                    \n",
      "Time taken: 0.084 seconds, Fetched: 1 row(s)\n"
     ]
    }
   ],
   "source": [
    "%%hive\n",
    "DESCRIBE tabla1;"
   ]
  },
  {
   "cell_type": "code",
   "execution_count": 28,
   "metadata": {},
   "outputs": [
    {
     "name": "stdout",
     "output_type": "stream",
     "text": [
      "DROP TABLE IF EXISTS result;\n",
      "OK\n",
      "Time taken: 0.012 seconds\n",
      "CREATE TABLE result\n",
      "AS\n",
      "    SELECT upper(col) FROM tabla1;\n",
      "WARNING: Hive-on-MR is deprecated in Hive 2 and may not be available in the future versions. Consider using a different execution engine (i.e. spark, tez) or using Hive 1.X releases.\n",
      "Query ID = root_20200208004606_087a2c78-60cf-41ba-afc4-aab4aa3236d5\n",
      "Total jobs = 3\n",
      "Launching Job 1 out of 3\n",
      "Number of reduce tasks is set to 0 since there's no reduce operator\n",
      "Starting Job = job_1581114677533_0034, Tracking URL = http://b29a149d01a3:8088/proxy/application_1581114677533_0034/\n",
      "Kill Command = /usr/local/hadoop/bin/hadoop job  -kill job_1581114677533_0034\n",
      "Hadoop job information for Stage-1: number of mappers: 1; number of reducers: 0\n",
      "2020-02-08 00:46:35,770 Stage-1 map = 0%,  reduce = 0%\n",
      "2020-02-08 00:47:00,592 Stage-1 map = 100%,  reduce = 0%, Cumulative CPU 11.06 sec\n",
      "MapReduce Total cumulative CPU time: 11 seconds 60 msec\n",
      "Ended Job = job_1581114677533_0034\n",
      "Stage-4 is selected by condition resolver.\n",
      "Stage-3 is filtered out by condition resolver.\n",
      "Stage-5 is filtered out by condition resolver.\n",
      "Moving data to directory hdfs://0.0.0.0:9000/user/hive/warehouse/.hive-staging_hive_2020-02-08_00-46-06_968_8177041668403688647-1/-ext-10002\n",
      "Moving data to directory hdfs://0.0.0.0:9000/user/hive/warehouse/result\n",
      "MapReduce Jobs Launched: \n",
      "Stage-Stage-1: Map: 1   Cumulative CPU: 11.06 sec   HDFS Read: 3478 HDFS Write: 138 SUCCESS\n",
      "Total MapReduce CPU Time Spent: 11 seconds 60 msec\n",
      "OK\n",
      "Time taken: 55.759 seconds\n"
     ]
    }
   ],
   "source": [
    "%%hive\n",
    "DROP TABLE IF EXISTS result;\n",
    "CREATE TABLE result\n",
    "AS\n",
    "    SELECT upper(col) FROM tabla1;"
   ]
  },
  {
   "cell_type": "code",
   "execution_count": 29,
   "metadata": {},
   "outputs": [
    {
     "name": "stdout",
     "output_type": "stream",
     "text": [
      "SELECT * FROM result LIMIT 10;\n",
      "OK\n",
      "A:E:C:D\n",
      "A:C\n",
      "B:D\n",
      "A:C:E:B:D\n",
      "D:E:C\n",
      "A:D\n",
      "A:E:D\n",
      "D:A:C:E\n",
      "B:A:C:E\n",
      "C:D:E:A:B\n",
      "Time taken: 0.202 seconds, Fetched: 10 row(s)\n"
     ]
    }
   ],
   "source": [
    "%%hive\n",
    "SELECT * FROM result LIMIT 10;"
   ]
  },
  {
   "cell_type": "code",
   "execution_count": 24,
   "metadata": {},
   "outputs": [
    {
     "name": "stdout",
     "output_type": "stream",
     "text": [
      "SELECT * FROM result LIMIT 20;\n",
      "FAILED: SemanticException [Error 10001]: Line 1:14 Table not found 'result'\n"
     ]
    }
   ],
   "source": [
    "%%hive\n",
    "SELECT * FROM result LIMIT 20;"
   ]
  },
  {
   "cell_type": "code",
   "execution_count": null,
   "metadata": {},
   "outputs": [],
   "source": []
  }
 ],
 "metadata": {
  "kernelspec": {
   "display_name": "Python 3",
   "language": "python",
   "name": "python3"
  },
  "language_info": {
   "codemirror_mode": {
    "name": "ipython",
    "version": 3
   },
   "file_extension": ".py",
   "mimetype": "text/x-python",
   "name": "python",
   "nbconvert_exporter": "python",
   "pygments_lexer": "ipython3",
   "version": "3.6.9"
  }
 },
 "nbformat": 4,
 "nbformat_minor": 4
}
