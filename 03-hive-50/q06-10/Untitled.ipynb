{
 "cells": [
  {
   "cell_type": "code",
   "execution_count": 1,
   "metadata": {},
   "outputs": [],
   "source": [
    "%load_ext bigdata"
   ]
  },
  {
   "cell_type": "code",
   "execution_count": 2,
   "metadata": {},
   "outputs": [],
   "source": [
    "%hive_start"
   ]
  },
  {
   "cell_type": "code",
   "execution_count": 3,
   "metadata": {},
   "outputs": [],
   "source": [
    "%timeout 300"
   ]
  },
  {
   "cell_type": "code",
   "execution_count": 41,
   "metadata": {},
   "outputs": [],
   "source": [
    "%hive_quit"
   ]
  },
  {
   "cell_type": "code",
   "execution_count": 4,
   "metadata": {},
   "outputs": [
    {
     "name": "stdout",
     "output_type": "stream",
     "text": [
      "DROP TABLE IF EXISTS tbl0;\n",
      "OK\n",
      "Time taken: 25.862 seconds\n",
      "CREATE TABLE tbl0 (\n",
      "    c1 INT,\n",
      "    c2 STRING,\n",
      "    c3 INT,\n",
      "    c4 DATE,\n",
      "    c5 ARRAY<CHAR(1)>, \n",
      "    c6 MAP<STRING, INT>\n",
      ")\n",
      "ROW FORMAT DELIMITED \n",
      "FIELDS TERMINATED BY ','\n",
      "COLLECTION ITEMS TERMINATED BY ':'\n",
      "MAP KEYS TERMINATED BY '#'\n",
      "LINES TERMINATED BY '\\n';\n",
      "OK\n",
      "Time taken: 1.969 seconds\n",
      "LOAD DATA LOCAL INPATH 'tbl0.csv' INTO TABLE tbl0;\n",
      "Loading data to table default.tbl0\n",
      "OK\n",
      "Time taken: 3.554 seconds\n"
     ]
    }
   ],
   "source": [
    "%%hive\n",
    "DROP TABLE IF EXISTS tbl0;\n",
    "CREATE TABLE tbl0 (\n",
    "    c1 INT,\n",
    "    c2 STRING,\n",
    "    c3 INT,\n",
    "    c4 DATE,\n",
    "    c5 ARRAY<CHAR(1)>, \n",
    "    c6 MAP<STRING, INT>\n",
    ")\n",
    "ROW FORMAT DELIMITED \n",
    "FIELDS TERMINATED BY ','\n",
    "COLLECTION ITEMS TERMINATED BY ':'\n",
    "MAP KEYS TERMINATED BY '#'\n",
    "LINES TERMINATED BY '\\n';\n",
    "LOAD DATA LOCAL INPATH 'tbl0.csv' INTO TABLE tbl0;"
   ]
  },
  {
   "cell_type": "code",
   "execution_count": 30,
   "metadata": {},
   "outputs": [
    {
     "name": "stdout",
     "output_type": "stream",
     "text": [
      "DROP TABLE IF EXISTS tabla1;\n",
      "OK\n",
      "Time taken: 0.465 seconds\n",
      "CREATE TABLE tabla1\n",
      "AS\n",
      "    SELECT\n",
      "        year(c4) AS ano,\n",
      "        letra\n",
      "    FROM\n",
      "        tbl0\n",
      "    LATERAL VIEW\n",
      "        explode(c5) tbl0 AS letra;\n",
      "WARNING: Hive-on-MR is deprecated in Hive 2 and may not be available in the future versions. Consider using a different execution engine (i.e. spark, tez) or using Hive 1.X releases.\n",
      "Query ID = root_20200207234128_533b2a08-3c9f-41f9-8262-5435c31a4d29\n",
      "Total jobs = 3\n",
      "Launching Job 1 out of 3\n",
      "Number of reduce tasks is set to 0 since there's no reduce operator\n",
      "Starting Job = job_1581114677533_0014, Tracking URL = http://b29a149d01a3:8088/proxy/application_1581114677533_0014/\n",
      "Kill Command = /usr/local/hadoop/bin/hadoop job  -kill job_1581114677533_0014\n",
      "Hadoop job information for Stage-1: number of mappers: 1; number of reducers: 0\n",
      "2020-02-07 23:41:50,298 Stage-1 map = 0%,  reduce = 0%\n",
      "2020-02-07 23:42:07,800 Stage-1 map = 100%,  reduce = 0%, Cumulative CPU 11.4 sec\n",
      "MapReduce Total cumulative CPU time: 11 seconds 400 msec\n",
      "Ended Job = job_1581114677533_0014\n",
      "Stage-4 is selected by condition resolver.\n",
      "Stage-3 is filtered out by condition resolver.\n",
      "Stage-5 is filtered out by condition resolver.\n",
      "Moving data to directory hdfs://0.0.0.0:9000/user/hive/warehouse/.hive-staging_hive_2020-02-07_23-41-28_112_113998090190460426-1/-ext-10001\n",
      "Moving data to directory hdfs://0.0.0.0:9000/user/hive/warehouse/tabla1\n",
      "MapReduce Jobs Launched: \n",
      "Stage-Stage-1: Map: 1   Cumulative CPU: 11.4 sec   HDFS Read: 6141 HDFS Write: 309 SUCCESS\n",
      "Total MapReduce CPU Time Spent: 11 seconds 400 msec\n",
      "OK\n",
      "Time taken: 43.164 seconds\n"
     ]
    }
   ],
   "source": [
    "%%hive\n",
    "DROP TABLE IF EXISTS tabla1;\n",
    "CREATE TABLE tabla1\n",
    "AS\n",
    "    SELECT\n",
    "        year(c4) AS ano,\n",
    "        letra\n",
    "    FROM\n",
    "        tbl0\n",
    "    LATERAL VIEW\n",
    "        explode(c5) tbl0 AS letra;"
   ]
  },
  {
   "cell_type": "code",
   "execution_count": 31,
   "metadata": {},
   "outputs": [
    {
     "name": "stdout",
     "output_type": "stream",
     "text": [
      "DESCRIBE tabla1;\n",
      "OK\n",
      "ano                 \tint                 \t                    \n",
      "letra               \tchar(1)             \t                    \n",
      "Time taken: 0.095 seconds, Fetched: 2 row(s)\n"
     ]
    }
   ],
   "source": [
    "%%hive\n",
    "DESCRIBE tabla1;"
   ]
  },
  {
   "cell_type": "code",
   "execution_count": 39,
   "metadata": {},
   "outputs": [
    {
     "name": "stdout",
     "output_type": "stream",
     "text": [
      "DROP TABLE IF EXISTS result;\n",
      "OK\n",
      "Time taken: 24.197 seconds\n",
      "CREATE TABLE result\n",
      "AS\n",
      "    SELECT ano, letra, count(2) AS num\n",
      "    FROM\n",
      "        tabla1\n",
      "GROUP BY\n",
      "    letra, ano\n",
      "ORDER BY\n",
      "    ano, letra;\n",
      "WARNING: Hive-on-MR is deprecated in Hive 2 and may not be available in the future versions. Consider using a different execution engine (i.e. spark, tez) or using Hive 1.X releases.\n",
      "Query ID = root_20200208000414_6561a218-dde6-4969-ae24-88a6b46e7418\n",
      "Total jobs = 2\n",
      "Launching Job 1 out of 2\n",
      "Number of reduce tasks not specified. Estimated from input data size: 1\n",
      "In order to change the average load for a reducer (in bytes):\n",
      "  set hive.exec.reducers.bytes.per.reducer=<number>\n",
      "In order to limit the maximum number of reducers:\n",
      "  set hive.exec.reducers.max=<number>\n",
      "In order to set a constant number of reducers:\n",
      "  set mapreduce.job.reduces=<number>\n",
      "Starting Job = job_1581114677533_0025, Tracking URL = http://b29a149d01a3:8088/proxy/application_1581114677533_0025/\n",
      "Kill Command = /usr/local/hadoop/bin/hadoop job  -kill job_1581114677533_0025\n",
      "Hadoop job information for Stage-1: number of mappers: 1; number of reducers: 1\n",
      "2020-02-08 00:04:44,059 Stage-1 map = 0%,  reduce = 0%\n",
      "2020-02-08 00:04:58,832 Stage-1 map = 100%,  reduce = 0%, Cumulative CPU 5.93 sec\n",
      "2020-02-08 00:05:13,068 Stage-1 map = 100%,  reduce = 100%, Cumulative CPU 16.32 sec\n",
      "MapReduce Total cumulative CPU time: 16 seconds 320 msec\n",
      "Ended Job = job_1581114677533_0025\n",
      "Launching Job 2 out of 2\n",
      "Number of reduce tasks determined at compile time: 1\n",
      "In order to change the average load for a reducer (in bytes):\n",
      "  set hive.exec.reducers.bytes.per.reducer=<number>\n",
      "In order to limit the maximum number of reducers:\n",
      "  set hive.exec.reducers.max=<number>\n",
      "In order to set a constant number of reducers:\n",
      "  set mapreduce.job.reduces=<number>\n",
      "Starting Job = job_1581114677533_0026, Tracking URL = http://b29a149d01a3:8088/proxy/application_1581114677533_0026/\n",
      "Kill Command = /usr/local/hadoop/bin/hadoop job  -kill job_1581114677533_0026\n",
      "Hadoop job information for Stage-2: number of mappers: 1; number of reducers: 1\n",
      "2020-02-08 00:05:37,048 Stage-2 map = 0%,  reduce = 0%\n",
      "2020-02-08 00:05:49,282 Stage-2 map = 100%,  reduce = 0%, Cumulative CPU 3.5 sec\n",
      "2020-02-08 00:06:04,232 Stage-2 map = 100%,  reduce = 100%, Cumulative CPU 13.22 sec\n",
      "MapReduce Total cumulative CPU time: 13 seconds 220 msec\n",
      "Ended Job = job_1581114677533_0026\n",
      "Moving data to directory hdfs://0.0.0.0:9000/user/hive/warehouse/result\n",
      "MapReduce Jobs Launched: \n",
      "Stage-Stage-1: Map: 1  Reduce: 1   Cumulative CPU: 16.32 sec   HDFS Read: 8073 HDFS Write: 556 SUCCESS\n",
      "Stage-Stage-2: Map: 1  Reduce: 1   Cumulative CPU: 13.22 sec   HDFS Read: 6444 HDFS Write: 251 SUCCESS\n",
      "Total MapReduce CPU Time Spent: 29 seconds 540 msec\n",
      "OK\n",
      "Time taken: 114.108 seconds\n"
     ]
    }
   ],
   "source": [
    "%%hive\n",
    "DROP TABLE IF EXISTS result;\n",
    "CREATE TABLE result\n",
    "AS\n",
    "    SELECT ano, letra, count(2) AS num\n",
    "    FROM\n",
    "        tabla1\n",
    "GROUP BY\n",
    "    letra, ano\n",
    "ORDER BY\n",
    "    ano, letra;"
   ]
  },
  {
   "cell_type": "code",
   "execution_count": null,
   "metadata": {},
   "outputs": [],
   "source": [
    "    SELECT ano, letra, count(2) AS num\n",
    "    FROM\n",
    "        tabla1\n",
    "GROUP BY\n",
    "    letra, ano\n",
    "ORDER BY\n",
    "    ano;"
   ]
  },
  {
   "cell_type": "code",
   "execution_count": 40,
   "metadata": {},
   "outputs": [
    {
     "name": "stdout",
     "output_type": "stream",
     "text": [
      "SELECT * FROM result LIMIT 30;\n",
      "OK\n",
      "2014\ta\t1\n",
      "2014\tb\t1\n",
      "2014\td\t2\n",
      "2014\te\t1\n",
      "2015\ta\t3\n",
      "2015\tb\t1\n",
      "2015\tc\t3\n",
      "2015\td\t2\n",
      "2015\te\t2\n",
      "2016\ta\t2\n",
      "2016\tb\t1\n",
      "2016\tc\t3\n",
      "2016\td\t3\n",
      "2016\te\t3\n",
      "2017\ta\t1\n",
      "2017\tb\t1\n",
      "2017\tc\t1\n",
      "2017\te\t1\n",
      "2018\ta\t1\n",
      "2018\td\t1\n",
      "Time taken: 0.694 seconds, Fetched: 20 row(s)\n"
     ]
    }
   ],
   "source": [
    "%%hive\n",
    "SELECT * FROM result LIMIT 30;"
   ]
  },
  {
   "cell_type": "code",
   "execution_count": null,
   "metadata": {},
   "outputs": [],
   "source": []
  }
 ],
 "metadata": {
  "kernelspec": {
   "display_name": "Python 3",
   "language": "python",
   "name": "python3"
  },
  "language_info": {
   "codemirror_mode": {
    "name": "ipython",
    "version": 3
   },
   "file_extension": ".py",
   "mimetype": "text/x-python",
   "name": "python",
   "nbconvert_exporter": "python",
   "pygments_lexer": "ipython3",
   "version": "3.6.9"
  }
 },
 "nbformat": 4,
 "nbformat_minor": 4
}
