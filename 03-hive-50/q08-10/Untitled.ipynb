{
 "cells": [
  {
   "cell_type": "code",
   "execution_count": null,
   "metadata": {},
   "outputs": [],
   "source": [
    "%load_ext bigdata"
   ]
  },
  {
   "cell_type": "code",
   "execution_count": 3,
   "metadata": {},
   "outputs": [],
   "source": [
    "%hive_start"
   ]
  },
  {
   "cell_type": "code",
   "execution_count": null,
   "metadata": {},
   "outputs": [],
   "source": [
    "%timeout 300"
   ]
  },
  {
   "cell_type": "code",
   "execution_count": 34,
   "metadata": {},
   "outputs": [],
   "source": [
    "%hive_quit"
   ]
  },
  {
   "cell_type": "code",
   "execution_count": 4,
   "metadata": {},
   "outputs": [
    {
     "name": "stdout",
     "output_type": "stream",
     "text": [
      "DROP TABLE IF EXISTS tbl0;\n",
      "OK\n",
      "Time taken: 27.94 seconds\n",
      "CREATE TABLE tbl0 (\n",
      "    c1 INT,\n",
      "    c2 STRING,\n",
      "    c3 INT,\n",
      "    c4 DATE,\n",
      "    c5 ARRAY<CHAR(1)>, \n",
      "    c6 MAP<STRING, INT>\n",
      ")\n",
      "ROW FORMAT DELIMITED \n",
      "FIELDS TERMINATED BY ','\n",
      "COLLECTION ITEMS TERMINATED BY ':'\n",
      "MAP KEYS TERMINATED BY '#'\n",
      "LINES TERMINATED BY '\\n';\n",
      "OK\n",
      "Time taken: 3.924 seconds\n",
      "LOAD DATA LOCAL INPATH 'tbl0.csv' INTO TABLE tbl0;\n",
      "Loading data to table default.tbl0\n",
      "OK\n",
      "Time taken: 5.608 seconds\n"
     ]
    }
   ],
   "source": [
    "%%hive\n",
    "DROP TABLE IF EXISTS tbl0;\n",
    "CREATE TABLE tbl0 (\n",
    "    c1 INT,\n",
    "    c2 STRING,\n",
    "    c3 INT,\n",
    "    c4 DATE,\n",
    "    c5 ARRAY<CHAR(1)>, \n",
    "    c6 MAP<STRING, INT>\n",
    ")\n",
    "ROW FORMAT DELIMITED \n",
    "FIELDS TERMINATED BY ','\n",
    "COLLECTION ITEMS TERMINATED BY ':'\n",
    "MAP KEYS TERMINATED BY '#'\n",
    "LINES TERMINATED BY '\\n';\n",
    "LOAD DATA LOCAL INPATH 'tbl0.csv' INTO TABLE tbl0;"
   ]
  },
  {
   "cell_type": "code",
   "execution_count": 17,
   "metadata": {},
   "outputs": [
    {
     "name": "stdout",
     "output_type": "stream",
     "text": [
      "DROP TABLE IF EXISTS tabla1;\n",
      "OK\n",
      "Time taken: 0.258 seconds\n",
      "CREATE TABLE tabla1\n",
      "AS\n",
      "    SELECT\n",
      "        c2 AS letra,\n",
      "        value\n",
      "    FROM\n",
      "        tbl0\n",
      "    LATERAL VIEW\n",
      "        explode(c6) tbl0;\n",
      "WARNING: Hive-on-MR is deprecated in Hive 2 and may not be available in the future versions. Consider using a different execution engine (i.e. spark, tez) or using Hive 1.X releases.\n",
      "Query ID = root_20200209171207_4602683b-65c3-46dd-bdbc-936699dd152f\n",
      "Total jobs = 3\n",
      "Launching Job 1 out of 3\n",
      "Number of reduce tasks is set to 0 since there's no reduce operator\n",
      "Starting Job = job_1581265070066_0005, Tracking URL = http://aecc33a1a0f1:8088/proxy/application_1581265070066_0005/\n",
      "Kill Command = /usr/local/hadoop/bin/hadoop job  -kill job_1581265070066_0005\n",
      "Hadoop job information for Stage-1: number of mappers: 1; number of reducers: 0\n",
      "2020-02-09 17:12:31,171 Stage-1 map = 0%,  reduce = 0%\n",
      "2020-02-09 17:12:48,022 Stage-1 map = 100%,  reduce = 0%, Cumulative CPU 11.27 sec\n",
      "MapReduce Total cumulative CPU time: 11 seconds 270 msec\n",
      "Ended Job = job_1581265070066_0005\n",
      "Stage-4 is selected by condition resolver.\n",
      "Stage-3 is filtered out by condition resolver.\n",
      "Stage-5 is filtered out by condition resolver.\n",
      "Moving data to directory hdfs://0.0.0.0:9000/user/hive/warehouse/.hive-staging_hive_2020-02-09_17-12-07_427_623911255882814332-1/-ext-10001\n",
      "Moving data to directory hdfs://0.0.0.0:9000/user/hive/warehouse/tabla1\n",
      "MapReduce Jobs Launched: \n",
      "Stage-Stage-1: Map: 1   Cumulative CPU: 11.27 sec   HDFS Read: 6007 HDFS Write: 196 SUCCESS\n",
      "Total MapReduce CPU Time Spent: 11 seconds 270 msec\n",
      "OK\n",
      "Time taken: 44.092 seconds\n"
     ]
    }
   ],
   "source": [
    "%%hive\n",
    "DROP TABLE IF EXISTS tabla1;\n",
    "CREATE TABLE tabla1\n",
    "AS\n",
    "    SELECT\n",
    "        c2 AS letra,\n",
    "        value\n",
    "    FROM\n",
    "        tbl0\n",
    "    LATERAL VIEW\n",
    "        explode(c6) tbl0;"
   ]
  },
  {
   "cell_type": "code",
   "execution_count": 30,
   "metadata": {},
   "outputs": [
    {
     "name": "stdout",
     "output_type": "stream",
     "text": [
      "SELECT * FROM tabla1 LIMIT 20;\n",
      "OK\n",
      "D\t10\n",
      "D\t20\n",
      "D\t40\n",
      "C\t40\n",
      "C\t20\n",
      "C\t10\n",
      "D\t10\n",
      "D\t40\n",
      "D\t40\n",
      "D\t20\n",
      "D\t10\n",
      "D\t30\n",
      "C\t10\n",
      "C\t20\n",
      "A\t20\n",
      "B\t20\n",
      "C\t10\n",
      "C\t20\n",
      "B\t40\n",
      "B\t10\n",
      "Time taken: 0.395 seconds, Fetched: 20 row(s)\n"
     ]
    }
   ],
   "source": [
    "%%hive\n",
    "SELECT * FROM tabla1 LIMIT 20;"
   ]
  },
  {
   "cell_type": "code",
   "execution_count": 19,
   "metadata": {},
   "outputs": [
    {
     "name": "stdout",
     "output_type": "stream",
     "text": [
      "DESCRIBE tabla1;\n",
      "OK\n",
      "letra               \tstring              \t                    \n",
      "value               \tint                 \t                    \n",
      "Time taken: 0.148 seconds, Fetched: 2 row(s)\n"
     ]
    }
   ],
   "source": [
    "%%hive\n",
    "DESCRIBE tabla1;"
   ]
  },
  {
   "cell_type": "code",
   "execution_count": 32,
   "metadata": {},
   "outputs": [
    {
     "name": "stdout",
     "output_type": "stream",
     "text": [
      "DROP TABLE IF EXISTS result;\n",
      "OK\n",
      "Time taken: 0.242 seconds\n",
      "CREATE TABLE result\n",
      "AS\n",
      "    SELECT letra, sum(value) AS num\n",
      "    FROM\n",
      "        tabla1\n",
      "GROUP BY\n",
      "    letra\n",
      "ORDER BY\n",
      "    letra;\n",
      "WARNING: Hive-on-MR is deprecated in Hive 2 and may not be available in the future versions. Consider using a different execution engine (i.e. spark, tez) or using Hive 1.X releases.\n",
      "Query ID = root_20200209172544_b8da051d-7b8f-4b55-aea5-38dcb59869eb\n",
      "Total jobs = 2\n",
      "Launching Job 1 out of 2\n",
      "Number of reduce tasks not specified. Estimated from input data size: 1\n",
      "In order to change the average load for a reducer (in bytes):\n",
      "  set hive.exec.reducers.bytes.per.reducer=<number>\n",
      "In order to limit the maximum number of reducers:\n",
      "  set hive.exec.reducers.max=<number>\n",
      "In order to set a constant number of reducers:\n",
      "  set mapreduce.job.reduces=<number>\n",
      "Starting Job = job_1581265070066_0010, Tracking URL = http://aecc33a1a0f1:8088/proxy/application_1581265070066_0010/\n",
      "Kill Command = /usr/local/hadoop/bin/hadoop job  -kill job_1581265070066_0010\n",
      "Hadoop job information for Stage-1: number of mappers: 1; number of reducers: 1\n",
      "2020-02-09 17:26:08,533 Stage-1 map = 0%,  reduce = 0%\n",
      "2020-02-09 17:26:23,523 Stage-1 map = 100%,  reduce = 0%, Cumulative CPU 7.16 sec\n",
      "2020-02-09 17:26:40,194 Stage-1 map = 100%,  reduce = 100%, Cumulative CPU 15.98 sec\n",
      "MapReduce Total cumulative CPU time: 15 seconds 980 msec\n",
      "Ended Job = job_1581265070066_0010\n",
      "Launching Job 2 out of 2\n",
      "Number of reduce tasks determined at compile time: 1\n",
      "In order to change the average load for a reducer (in bytes):\n",
      "  set hive.exec.reducers.bytes.per.reducer=<number>\n",
      "In order to limit the maximum number of reducers:\n",
      "  set hive.exec.reducers.max=<number>\n",
      "In order to set a constant number of reducers:\n",
      "  set mapreduce.job.reduces=<number>\n",
      "Starting Job = job_1581265070066_0011, Tracking URL = http://aecc33a1a0f1:8088/proxy/application_1581265070066_0011/\n",
      "Kill Command = /usr/local/hadoop/bin/hadoop job  -kill job_1581265070066_0011\n",
      "Hadoop job information for Stage-2: number of mappers: 1; number of reducers: 1\n",
      "2020-02-09 17:27:09,094 Stage-2 map = 0%,  reduce = 0%\n",
      "2020-02-09 17:27:23,249 Stage-2 map = 100%,  reduce = 0%, Cumulative CPU 4.19 sec\n",
      "2020-02-09 17:27:38,748 Stage-2 map = 100%,  reduce = 100%, Cumulative CPU 13.63 sec\n",
      "MapReduce Total cumulative CPU time: 13 seconds 630 msec\n",
      "Ended Job = job_1581265070066_0011\n",
      "Moving data to directory hdfs://0.0.0.0:9000/user/hive/warehouse/result\n",
      "MapReduce Jobs Launched: \n",
      "Stage-Stage-1: Map: 1  Reduce: 1   Cumulative CPU: 15.98 sec   HDFS Read: 7371 HDFS Write: 179 SUCCESS\n",
      "Stage-Stage-2: Map: 1  Reduce: 1   Cumulative CPU: 13.63 sec   HDFS Read: 5314 HDFS Write: 93 SUCCESS\n",
      "Total MapReduce CPU Time Spent: 29 seconds 610 msec\n",
      "OK\n",
      "Time taken: 117.608 seconds\n"
     ]
    }
   ],
   "source": [
    "%%hive\n",
    "DROP TABLE IF EXISTS result;\n",
    "CREATE TABLE result\n",
    "AS\n",
    "    SELECT letra, sum(value) AS num\n",
    "    FROM\n",
    "        tabla1\n",
    "GROUP BY\n",
    "    letra\n",
    "ORDER BY\n",
    "    letra;"
   ]
  },
  {
   "cell_type": "code",
   "execution_count": 33,
   "metadata": {},
   "outputs": [
    {
     "name": "stdout",
     "output_type": "stream",
     "text": [
      "SELECT * FROM result LIMIT 30;\n",
      "OK\n",
      "A\t20\n",
      "B\t200\n",
      "C\t130\n",
      "D\t220\n",
      "Time taken: 0.352 seconds, Fetched: 4 row(s)\n"
     ]
    }
   ],
   "source": [
    "%%hive\n",
    "SELECT * FROM result LIMIT 30;"
   ]
  },
  {
   "cell_type": "code",
   "execution_count": null,
   "metadata": {},
   "outputs": [],
   "source": []
  }
 ],
 "metadata": {
  "kernelspec": {
   "display_name": "Python 3",
   "language": "python",
   "name": "python3"
  },
  "language_info": {
   "codemirror_mode": {
    "name": "ipython",
    "version": 3
   },
   "file_extension": ".py",
   "mimetype": "text/x-python",
   "name": "python",
   "nbconvert_exporter": "python",
   "pygments_lexer": "ipython3",
   "version": "3.6.9"
  }
 },
 "nbformat": 4,
 "nbformat_minor": 4
}
