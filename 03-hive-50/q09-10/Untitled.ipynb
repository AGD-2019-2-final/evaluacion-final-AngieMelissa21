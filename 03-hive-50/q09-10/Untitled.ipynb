{
 "cells": [
  {
   "cell_type": "code",
   "execution_count": 20,
   "metadata": {},
   "outputs": [
    {
     "name": "stdout",
     "output_type": "stream",
     "text": [
      "The bigdata extension is already loaded. To reload it, use:\n",
      "  %reload_ext bigdata\n"
     ]
    }
   ],
   "source": [
    "%load_ext bigdata"
   ]
  },
  {
   "cell_type": "code",
   "execution_count": 166,
   "metadata": {},
   "outputs": [],
   "source": [
    "%hive_start"
   ]
  },
  {
   "cell_type": "code",
   "execution_count": 22,
   "metadata": {},
   "outputs": [],
   "source": [
    "%timeout 300"
   ]
  },
  {
   "cell_type": "code",
   "execution_count": 167,
   "metadata": {},
   "outputs": [],
   "source": [
    "%hive_quit"
   ]
  },
  {
   "cell_type": "code",
   "execution_count": 23,
   "metadata": {},
   "outputs": [
    {
     "name": "stdout",
     "output_type": "stream",
     "text": [
      "DROP TABLE IF EXISTS tbl0;\n",
      "OK\n",
      "Time taken: 28.432 seconds\n",
      "CREATE TABLE tbl0 (\n",
      "    c1 INT,\n",
      "    c2 STRING,\n",
      "    c3 INT,\n",
      "    c4 DATE,\n",
      "    c5 ARRAY<CHAR(1)>, \n",
      "    c6 MAP<STRING, INT>\n",
      ")\n",
      "ROW FORMAT DELIMITED \n",
      "FIELDS TERMINATED BY ','\n",
      "COLLECTION ITEMS TERMINATED BY ':'\n",
      "MAP KEYS TERMINATED BY '#'\n",
      "LINES TERMINATED BY '\\n';\n",
      "OK\n",
      "Time taken: 1.886 seconds\n",
      "LOAD DATA LOCAL INPATH 'tbl0.csv' INTO TABLE tbl0;\n",
      "Loading data to table default.tbl0\n",
      "OK\n",
      "Time taken: 3.578 seconds\n"
     ]
    }
   ],
   "source": [
    "%%hive\n",
    "DROP TABLE IF EXISTS tbl0;\n",
    "CREATE TABLE tbl0 (\n",
    "    c1 INT,\n",
    "    c2 STRING,\n",
    "    c3 INT,\n",
    "    c4 DATE,\n",
    "    c5 ARRAY<CHAR(1)>, \n",
    "    c6 MAP<STRING, INT>\n",
    ")\n",
    "ROW FORMAT DELIMITED \n",
    "FIELDS TERMINATED BY ','\n",
    "COLLECTION ITEMS TERMINATED BY ':'\n",
    "MAP KEYS TERMINATED BY '#'\n",
    "LINES TERMINATED BY '\\n';\n",
    "LOAD DATA LOCAL INPATH 'tbl0.csv' INTO TABLE tbl0;"
   ]
  },
  {
   "cell_type": "code",
   "execution_count": 24,
   "metadata": {},
   "outputs": [
    {
     "name": "stdout",
     "output_type": "stream",
     "text": [
      "DROP TABLE IF EXISTS tbl1;\n",
      "OK\n",
      "Time taken: 0.328 seconds\n",
      "CREATE TABLE tbl1 (\n",
      "    c1 INT,\n",
      "    c2 INT,\n",
      "    c3 STRING,\n",
      "    c4 MAP<STRING, INT>\n",
      ")\n",
      "ROW FORMAT DELIMITED \n",
      "FIELDS TERMINATED BY ','\n",
      "COLLECTION ITEMS TERMINATED BY ':'\n",
      "MAP KEYS TERMINATED BY '#'\n",
      "LINES TERMINATED BY '\\n';\n",
      "OK\n",
      "Time taken: 0.213 seconds\n",
      "LOAD DATA LOCAL INPATH 'tbl1.csv' INTO TABLE tbl1;\n",
      "Loading data to table default.tbl1\n",
      "OK\n",
      "Time taken: 2.167 seconds\n"
     ]
    }
   ],
   "source": [
    "%%hive\n",
    "DROP TABLE IF EXISTS tbl1;\n",
    "CREATE TABLE tbl1 (\n",
    "    c1 INT,\n",
    "    c2 INT,\n",
    "    c3 STRING,\n",
    "    c4 MAP<STRING, INT>\n",
    ")\n",
    "ROW FORMAT DELIMITED \n",
    "FIELDS TERMINATED BY ','\n",
    "COLLECTION ITEMS TERMINATED BY ':'\n",
    "MAP KEYS TERMINATED BY '#'\n",
    "LINES TERMINATED BY '\\n';\n",
    "LOAD DATA LOCAL INPATH 'tbl1.csv' INTO TABLE tbl1;"
   ]
  },
  {
   "cell_type": "code",
   "execution_count": 42,
   "metadata": {},
   "outputs": [
    {
     "name": "stdout",
     "output_type": "stream",
     "text": [
      "    ON (t0.c1 = t1.c1);\n",
      "WARNING: Hive-on-MR is deprecated in Hive 2 and may not be available in the future versions. Consider using a different execution engine (i.e. spark, tez) or using Hive 1.X releases.\n",
      "Query ID = root_20200209201256_75f31d96-abf3-4fa5-a198-9086075d5427\n",
      "Total jobs = 1\n",
      "SLF4J: Class path contains multiple SLF4J bindings.\n",
      "SLF4J: Found binding in [jar:file:/usr/local/hive/lib/log4j-slf4j-impl-2.6.2.jar!/org/slf4j/impl/StaticLoggerBinder.class]\n",
      "SLF4J: Found binding in [jar:file:/usr/local/hadoop/share/hadoop/common/lib/slf4j-log4j12-1.7.10.jar!/org/slf4j/impl/StaticLoggerBinder.class]\n",
      "SLF4J: See http://www.slf4j.org/codes.html#multiple_bindings for an explanation.\n",
      "SLF4J: Actual binding is of type [org.apache.logging.slf4j.Log4jLoggerFactory]\n",
      "2020-02-09 20:13:22\tStarting to launch local task to process map join;\tmaximum memory = 477626368\n",
      "2020-02-09 20:13:27\tDump the side-table for tag: 1 with group count: 10 into file: file:/tmp/root/80ab6bb8-0c0a-4da6-8f5d-8d2ce62398cd/hive_2020-02-09_20-12-56_208_1546791301186882113-1/-local-10004/HashTable-Stage-4/MapJoin-mapfile21--.hashtable\n",
      "2020-02-09 20:13:28\tUploaded 1 File to: file:/tmp/root/80ab6bb8-0c0a-4da6-8f5d-8d2ce62398cd/hive_2020-02-09_20-12-56_208_1546791301186882113-1/-local-10004/HashTable-Stage-4/MapJoin-mapfile21--.hashtable (673 bytes)\n",
      "2020-02-09 20:13:28\tEnd of local task; Time Taken: 5.469 sec.\n",
      "Execution completed successfully\n",
      "MapredLocal task succeeded\n",
      "Launching Job 1 out of 1\n",
      "Number of reduce tasks is set to 0 since there's no reduce operator\n",
      "Starting Job = job_1581277440203_0003, Tracking URL = http://fa9504f29e89:8088/proxy/application_1581277440203_0003/\n",
      "Kill Command = /usr/local/hadoop/bin/hadoop job  -kill job_1581277440203_0003\n",
      "Hadoop job information for Stage-4: number of mappers: 1; number of reducers: 0\n",
      "2020-02-09 20:13:55,216 Stage-4 map = 0%,  reduce = 0%\n",
      "2020-02-09 20:14:14,562 Stage-4 map = 100%,  reduce = 0%, Cumulative CPU 12.95 sec\n",
      "MapReduce Total cumulative CPU time: 12 seconds 950 msec\n",
      "Ended Job = job_1581277440203_0003\n",
      "Moving data to directory hdfs://0.0.0.0:9000/user/hive/warehouse/tabla1\n",
      "MapReduce Jobs Launched: \n",
      "Stage-Stage-4: Map: 1   Cumulative CPU: 12.95 sec   HDFS Read: 7152 HDFS Write: 312 SUCCESS\n",
      "Total MapReduce CPU Time Spent: 12 seconds 950 msec\n",
      "OK\n",
      "Time taken: 81.783 seconds\n",
      "DROP TABLE IF EXISTS tabla1;\n",
      "OK\n",
      "Time taken: 0.155 seconds\n",
      "CREATE TABLE tabla1\n",
      "AS\n",
      "    SELECT\n",
      "        t0.c1,\n",
      "        t0.c2,\n",
      "        t1.c4\n",
      "    FROM\n",
      "        tbl0 t0\n",
      "    JOIN tbl1 t1\n"
     ]
    }
   ],
   "source": [
    "%%hive\n",
    "DROP TABLE IF EXISTS tabla1;\n",
    "CREATE TABLE tabla1\n",
    "AS\n",
    "    SELECT\n",
    "        t0.c1,\n",
    "        t0.c2,\n",
    "        t1.c4\n",
    "    FROM\n",
    "        tbl0 t0\n",
    "    JOIN tbl1 t1\n",
    "    ON (t0.c1 = t1.c1);"
   ]
  },
  {
   "cell_type": "code",
   "execution_count": 42,
   "metadata": {},
   "outputs": [
    {
     "name": "stdout",
     "output_type": "stream",
     "text": [
      "    ON (t0.c1 = t1.c1);\n",
      "WARNING: Hive-on-MR is deprecated in Hive 2 and may not be available in the future versions. Consider using a different execution engine (i.e. spark, tez) or using Hive 1.X releases.\n",
      "Query ID = root_20200209201256_75f31d96-abf3-4fa5-a198-9086075d5427\n",
      "Total jobs = 1\n",
      "SLF4J: Class path contains multiple SLF4J bindings.\n",
      "SLF4J: Found binding in [jar:file:/usr/local/hive/lib/log4j-slf4j-impl-2.6.2.jar!/org/slf4j/impl/StaticLoggerBinder.class]\n",
      "SLF4J: Found binding in [jar:file:/usr/local/hadoop/share/hadoop/common/lib/slf4j-log4j12-1.7.10.jar!/org/slf4j/impl/StaticLoggerBinder.class]\n",
      "SLF4J: See http://www.slf4j.org/codes.html#multiple_bindings for an explanation.\n",
      "SLF4J: Actual binding is of type [org.apache.logging.slf4j.Log4jLoggerFactory]\n",
      "2020-02-09 20:13:22\tStarting to launch local task to process map join;\tmaximum memory = 477626368\n",
      "2020-02-09 20:13:27\tDump the side-table for tag: 1 with group count: 10 into file: file:/tmp/root/80ab6bb8-0c0a-4da6-8f5d-8d2ce62398cd/hive_2020-02-09_20-12-56_208_1546791301186882113-1/-local-10004/HashTable-Stage-4/MapJoin-mapfile21--.hashtable\n",
      "2020-02-09 20:13:28\tUploaded 1 File to: file:/tmp/root/80ab6bb8-0c0a-4da6-8f5d-8d2ce62398cd/hive_2020-02-09_20-12-56_208_1546791301186882113-1/-local-10004/HashTable-Stage-4/MapJoin-mapfile21--.hashtable (673 bytes)\n",
      "2020-02-09 20:13:28\tEnd of local task; Time Taken: 5.469 sec.\n",
      "Execution completed successfully\n",
      "MapredLocal task succeeded\n",
      "Launching Job 1 out of 1\n",
      "Number of reduce tasks is set to 0 since there's no reduce operator\n",
      "Starting Job = job_1581277440203_0003, Tracking URL = http://fa9504f29e89:8088/proxy/application_1581277440203_0003/\n",
      "Kill Command = /usr/local/hadoop/bin/hadoop job  -kill job_1581277440203_0003\n",
      "Hadoop job information for Stage-4: number of mappers: 1; number of reducers: 0\n",
      "2020-02-09 20:13:55,216 Stage-4 map = 0%,  reduce = 0%\n",
      "2020-02-09 20:14:14,562 Stage-4 map = 100%,  reduce = 0%, Cumulative CPU 12.95 sec\n",
      "MapReduce Total cumulative CPU time: 12 seconds 950 msec\n",
      "Ended Job = job_1581277440203_0003\n",
      "Moving data to directory hdfs://0.0.0.0:9000/user/hive/warehouse/tabla1\n",
      "MapReduce Jobs Launched: \n",
      "Stage-Stage-4: Map: 1   Cumulative CPU: 12.95 sec   HDFS Read: 7152 HDFS Write: 312 SUCCESS\n",
      "Total MapReduce CPU Time Spent: 12 seconds 950 msec\n",
      "OK\n",
      "Time taken: 81.783 seconds\n",
      "DROP TABLE IF EXISTS tabla1;\n",
      "OK\n",
      "Time taken: 0.155 seconds\n",
      "CREATE TABLE tabla1\n",
      "AS\n",
      "    SELECT\n",
      "        t0.c1,\n",
      "        t0.c2,\n",
      "        t1.c4\n",
      "    FROM\n",
      "        tbl0 t0\n",
      "    JOIN tbl1 t1\n"
     ]
    }
   ],
   "source": [
    "%%hive\n",
    "DROP TABLE IF EXISTS tabla1;\n",
    "CREATE TABLE tabla1\n",
    "AS\n",
    "    SELECT\n",
    "        t0.c1,\n",
    "        t0.c2,\n",
    "        t1.c4\n",
    "    FROM\n",
    "        tbl0 t0\n",
    "    JOIN \n",
    "        SELECT\n",
    "            tbl1 t1\n",
    "    ON (t0.c1 = t1.c1);"
   ]
  },
  {
   "cell_type": "code",
   "execution_count": 44,
   "metadata": {},
   "outputs": [
    {
     "name": "stdout",
     "output_type": "stream",
     "text": [
      "SELECT * FROM tabla1 LIMIT 20;\n",
      "OK\n",
      "1\tD\t{\"A\":0,\"B\":4,\"C\":1,\"D\":3,\"E\":5}\n",
      "2\tC\t{\"A\":4,\"B\":1,\"C\":0,\"D\":5,\"E\":2}\n",
      "3\tD\t{\"A\":5,\"B\":4,\"C\":3,\"D\":1,\"E\":0}\n",
      "4\tD\t{\"A\":2,\"B\":4,\"C\":3,\"D\":5,\"E\":1}\n",
      "5\tC\t{\"A\":4,\"B\":0,\"C\":2,\"D\":5,\"E\":3}\n",
      "6\tA\t{\"A\":4,\"B\":5,\"C\":1,\"D\":2,\"E\":3}\n",
      "7\tB\t{\"A\":0,\"B\":5,\"C\":2,\"D\":4,\"E\":3}\n",
      "8\tC\t{\"A\":4,\"B\":2,\"C\":5,\"D\":3,\"E\":0}\n",
      "9\tB\t{\"A\":1,\"B\":4,\"C\":2,\"D\":5,\"E\":3}\n",
      "10\tB\t{\"A\":2,\"B\":3,\"C\":4,\"D\":1,\"E\":0}\n",
      "Time taken: 0.476 seconds, Fetched: 10 row(s)\n"
     ]
    }
   ],
   "source": [
    "%%hive\n",
    "SELECT * FROM tabla1 LIMIT 20;"
   ]
  },
  {
   "cell_type": "code",
   "execution_count": 56,
   "metadata": {},
   "outputs": [
    {
     "name": "stdout",
     "output_type": "stream",
     "text": [
      "DESCRIBE tabla1;\n",
      "OK\n",
      "c1                  \tint                 \t                    \n",
      "c2                  \tstring              \t                    \n",
      "c4                  \tmap<string,int>     \t                    \n",
      "Time taken: 0.064 seconds, Fetched: 3 row(s)\n"
     ]
    }
   ],
   "source": [
    "%%hive\n",
    "DESCRIBE tabla1;"
   ]
  },
  {
   "cell_type": "code",
   "execution_count": 161,
   "metadata": {},
   "outputs": [
    {
     "name": "stdout",
     "output_type": "stream",
     "text": [
      "        explode(c4) tabla1\n",
      "    WHERE c2 = key;\n",
      "WARNING: Hive-on-MR is deprecated in Hive 2 and may not be available in the future versions. Consider using a different execution engine (i.e. spark, tez) or using Hive 1.X releases.\n",
      "Query ID = root_20200209214757_e2fae4cc-6109-4e78-8e0b-b28d23928345\n",
      "Total jobs = 3\n",
      "Launching Job 1 out of 3\n",
      "Number of reduce tasks is set to 0 since there's no reduce operator\n",
      "Starting Job = job_1581277440203_0031, Tracking URL = http://fa9504f29e89:8088/proxy/application_1581277440203_0031/\n",
      "Kill Command = /usr/local/hadoop/bin/hadoop job  -kill job_1581277440203_0031\n",
      "Hadoop job information for Stage-1: number of mappers: 1; number of reducers: 0\n",
      "2020-02-09 21:48:19,903 Stage-1 map = 0%,  reduce = 0%\n",
      "2020-02-09 21:48:35,255 Stage-1 map = 100%,  reduce = 0%, Cumulative CPU 10.85 sec\n",
      "MapReduce Total cumulative CPU time: 10 seconds 850 msec\n",
      "Ended Job = job_1581277440203_0031\n",
      "Stage-4 is selected by condition resolver.\n",
      "Stage-3 is filtered out by condition resolver.\n",
      "Stage-5 is filtered out by condition resolver.\n",
      "Moving data to directory hdfs://0.0.0.0:9000/user/hive/warehouse/.hive-staging_hive_2020-02-09_21-47-57_806_5241311419510420274-1/-ext-10001\n",
      "Moving data to directory hdfs://0.0.0.0:9000/user/hive/warehouse/tabla3\n",
      "MapReduce Jobs Launched: \n",
      "Stage-Stage-1: Map: 1   Cumulative CPU: 10.85 sec   HDFS Read: 5597 HDFS Write: 131 SUCCESS\n",
      "Total MapReduce CPU Time Spent: 10 seconds 850 msec\n",
      "OK\n",
      "Time taken: 40.53 seconds\n",
      "DROP TABLE IF EXISTS tabla3;\n",
      "OK\n",
      "Time taken: 0.058 seconds\n",
      "CREATE TABLE tabla3\n",
      "AS\n",
      "    SELECT\n",
      "        c1,\n",
      "        c2,\n",
      "        value\n",
      "    FROM\n",
      "        tabla1\n",
      "    LATERAL VIEW\n"
     ]
    }
   ],
   "source": [
    "%%hive\n",
    "DROP TABLE IF EXISTS result;\n",
    "CREATE TABLE result\n",
    "AS\n",
    "    SELECT\n",
    "        c1,\n",
    "        c2,\n",
    "        value\n",
    "    FROM\n",
    "        tabla1\n",
    "    LATERAL VIEW\n",
    "        explode(c4) tabla1\n",
    "    WHERE c2 = key;"
   ]
  },
  {
   "cell_type": "code",
   "execution_count": 164,
   "metadata": {},
   "outputs": [
    {
     "name": "stdout",
     "output_type": "stream",
     "text": [
      "SELECT * FROM tabla3 LIMIT 20;\n",
      "OK\n",
      "1\tD\t3\n",
      "2\tC\t0\n",
      "3\tD\t1\n",
      "4\tD\t5\n",
      "5\tC\t2\n",
      "6\tA\t4\n",
      "7\tB\t5\n",
      "8\tC\t5\n",
      "9\tB\t4\n",
      "10\tB\t3\n",
      "Time taken: 0.174 seconds, Fetched: 10 row(s)\n"
     ]
    }
   ],
   "source": [
    "%%hive\n",
    "SELECT * FROM result LIMIT 20;"
   ]
  },
  {
   "cell_type": "code",
   "execution_count": 159,
   "metadata": {},
   "outputs": [
    {
     "name": "stdout",
     "output_type": "stream",
     "text": [
      "DESCRIBE tabla3;\n",
      "OK\n",
      "c2                  \tstring              \t                    \n",
      "key                 \tstring              \t                    \n",
      "value               \tint                 \t                    \n",
      "Time taken: 0.037 seconds, Fetched: 3 row(s)\n"
     ]
    }
   ],
   "source": [
    "%%hive\n",
    "DESCRIBE result;"
   ]
  },
  {
   "cell_type": "code",
   "execution_count": null,
   "metadata": {},
   "outputs": [],
   "source": []
  }
 ],
 "metadata": {
  "kernelspec": {
   "display_name": "Python 3",
   "language": "python",
   "name": "python3"
  },
  "language_info": {
   "codemirror_mode": {
    "name": "ipython",
    "version": 3
   },
   "file_extension": ".py",
   "mimetype": "text/x-python",
   "name": "python",
   "nbconvert_exporter": "python",
   "pygments_lexer": "ipython3",
   "version": "3.6.9"
  }
 },
 "nbformat": 4,
 "nbformat_minor": 4
}
