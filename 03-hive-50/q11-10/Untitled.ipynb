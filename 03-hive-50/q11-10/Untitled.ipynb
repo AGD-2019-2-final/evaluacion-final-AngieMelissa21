{
 "cells": [
  {
   "cell_type": "code",
   "execution_count": 2,
   "metadata": {},
   "outputs": [],
   "source": [
    "%load_ext bigdata"
   ]
  },
  {
   "cell_type": "code",
   "execution_count": 42,
   "metadata": {},
   "outputs": [],
   "source": [
    "%hive_start"
   ]
  },
  {
   "cell_type": "code",
   "execution_count": 43,
   "metadata": {},
   "outputs": [],
   "source": [
    "%timeout 300"
   ]
  },
  {
   "cell_type": "code",
   "execution_count": 74,
   "metadata": {},
   "outputs": [],
   "source": [
    "%hive_quit"
   ]
  },
  {
   "cell_type": "code",
   "execution_count": 44,
   "metadata": {},
   "outputs": [
    {
     "name": "stdout",
     "output_type": "stream",
     "text": [
      "DROP TABLE IF EXISTS t0;\n",
      "OK\n",
      "Time taken: 30.066 seconds\n",
      "CREATE TABLE t0 (\n",
      "    c1 STRING,\n",
      "    c2 ARRAY<CHAR(1)>, \n",
      "    c3 MAP<STRING, INT>\n",
      "    )\n",
      "    ROW FORMAT DELIMITED \n",
      "        FIELDS TERMINATED BY '\\t'\n",
      "        COLLECTION ITEMS TERMINATED BY ','\n",
      "        MAP KEYS TERMINATED BY '#'\n",
      "        LINES TERMINATED BY '\\n';\n",
      "OK\n",
      "Time taken: 2.241 seconds\n",
      "LOAD DATA LOCAL INPATH 'data.tsv' INTO TABLE t0;\n",
      "Loading data to table default.t0\n",
      "OK\n",
      "Time taken: 3.563 seconds\n"
     ]
    }
   ],
   "source": [
    "%%hive\n",
    "DROP TABLE IF EXISTS t0;\n",
    "CREATE TABLE t0 (\n",
    "    c1 STRING,\n",
    "    c2 ARRAY<CHAR(1)>, \n",
    "    c3 MAP<STRING, INT>\n",
    "    )\n",
    "    ROW FORMAT DELIMITED \n",
    "        FIELDS TERMINATED BY '\\t'\n",
    "        COLLECTION ITEMS TERMINATED BY ','\n",
    "        MAP KEYS TERMINATED BY '#'\n",
    "        LINES TERMINATED BY '\\n';\n",
    "LOAD DATA LOCAL INPATH 'data.tsv' INTO TABLE t0;"
   ]
  },
  {
   "cell_type": "code",
   "execution_count": 7,
   "metadata": {},
   "outputs": [
    {
     "name": "stdout",
     "output_type": "stream",
     "text": [
      "DROP TABLE IF EXISTS result;\n",
      "OK\n",
      "Time taken: 0.286 seconds\n",
      "CREATE TABLE result\n",
      "AS\n",
      "    SELECT\n",
      "        c1, size(c2), size(c3)\n",
      "    FROM\n",
      "        t0;\n",
      "WARNING: Hive-on-MR is deprecated in Hive 2 and may not be available in the future versions. Consider using a different execution engine (i.e. spark, tez) or using Hive 1.X releases.\n",
      "Query ID = root_20200209225456_472eeff6-4ef5-40af-b000-f9832e09fc74\n",
      "Total jobs = 3\n",
      "Launching Job 1 out of 3\n",
      "Number of reduce tasks is set to 0 since there's no reduce operator\n",
      "Starting Job = job_1581285798968_0009, Tracking URL = http://63fea19fc735:8088/proxy/application_1581285798968_0009/\n",
      "Kill Command = /usr/local/hadoop/bin/hadoop job  -kill job_1581285798968_0009\n",
      "Hadoop job information for Stage-1: number of mappers: 1; number of reducers: 0\n",
      "2020-02-09 22:55:31,177 Stage-1 map = 0%,  reduce = 0%\n",
      "2020-02-09 22:55:50,196 Stage-1 map = 100%,  reduce = 0%, Cumulative CPU 10.18 sec\n",
      "MapReduce Total cumulative CPU time: 10 seconds 180 msec\n",
      "Ended Job = job_1581285798968_0009\n",
      "Stage-4 is selected by condition resolver.\n",
      "Stage-3 is filtered out by condition resolver.\n",
      "Stage-5 is filtered out by condition resolver.\n",
      "Moving data to directory hdfs://0.0.0.0:9000/user/hive/warehouse/.hive-staging_hive_2020-02-09_22-54-56_989_6618652961322826572-1/-ext-10002\n",
      "Moving data to directory hdfs://0.0.0.0:9000/user/hive/warehouse/result\n",
      "MapReduce Jobs Launched: \n",
      "Stage-Stage-1: Map: 1   Cumulative CPU: 10.18 sec   HDFS Read: 5588 HDFS Write: 311 SUCCESS\n",
      "Total MapReduce CPU Time Spent: 10 seconds 180 msec\n",
      "OK\n",
      "Time taken: 57.21 seconds\n"
     ]
    }
   ],
   "source": [
    "%%hive\n",
    "DROP TABLE IF EXISTS result;\n",
    "CREATE TABLE result\n",
    "AS\n",
    "    SELECT\n",
    "        c1, size(c2), size(c3)\n",
    "    FROM\n",
    "        t0;"
   ]
  },
  {
   "cell_type": "code",
   "execution_count": 8,
   "metadata": {},
   "outputs": [
    {
     "name": "stdout",
     "output_type": "stream",
     "text": [
      "SELECT * FROM result LIMIT 20;\n",
      "OK\n",
      "E\t3\t5\n",
      "A\t3\t4\n",
      "B\t4\t4\n",
      "A\t2\t4\n",
      "C\t4\t4\n",
      "A\t2\t5\n",
      "A\t3\t6\n",
      "B\t2\t3\n",
      "E\t4\t6\n",
      "B\t4\t6\n",
      "C\t4\t5\n",
      "C\t4\t3\n",
      "D\t4\t5\n",
      "E\t2\t3\n",
      "B\t2\t5\n",
      "D\t2\t4\n",
      "E\t3\t6\n",
      "D\t2\t3\n",
      "E\t4\t3\n",
      "E\t2\t3\n",
      "Time taken: 0.6 seconds, Fetched: 20 row(s)\n"
     ]
    }
   ],
   "source": [
    "%%hive\n",
    "SELECT * FROM result LIMIT 20;"
   ]
  },
  {
   "cell_type": "code",
   "execution_count": 67,
   "metadata": {},
   "outputs": [
    {
     "name": "stdout",
     "output_type": "stream",
     "text": [
      "DROP TABLE IF EXISTS tabla1;\n",
      "OK\n",
      "Time taken: 0.207 seconds\n",
      "CREATE TABLE tabla1\n",
      "AS\n",
      "    SELECT\n",
      "        letra,\n",
      "        c3\n",
      "    FROM\n",
      "        t0\n",
      "    LATERAL VIEW\n",
      "        explode(c2) t0 AS letra;\n",
      "WARNING: Hive-on-MR is deprecated in Hive 2 and may not be available in the future versions. Consider using a different execution engine (i.e. spark, tez) or using Hive 1.X releases.\n",
      "Query ID = root_20200209234039_6b676593-a39e-4abe-86fd-0b8abef9caac\n",
      "Total jobs = 3\n",
      "Launching Job 1 out of 3\n",
      "Number of reduce tasks is set to 0 since there's no reduce operator\n",
      "Starting Job = job_1581285798968_0016, Tracking URL = http://63fea19fc735:8088/proxy/application_1581285798968_0016/\n",
      "Kill Command = /usr/local/hadoop/bin/hadoop job  -kill job_1581285798968_0016\n",
      "Hadoop job information for Stage-1: number of mappers: 1; number of reducers: 0\n",
      "2020-02-09 23:41:05,304 Stage-1 map = 0%,  reduce = 0%\n",
      "2020-02-09 23:41:38,782 Stage-1 map = 100%,  reduce = 0%, Cumulative CPU 22.55 sec\n",
      "MapReduce Total cumulative CPU time: 22 seconds 550 msec\n",
      "Ended Job = job_1581285798968_0016\n",
      "Stage-4 is selected by condition resolver.\n",
      "Stage-3 is filtered out by condition resolver.\n",
      "Stage-5 is filtered out by condition resolver.\n",
      "Moving data to directory hdfs://0.0.0.0:9000/user/hive/warehouse/.hive-staging_hive_2020-02-09_23-40-39_940_4407136178535438542-1/-ext-10001\n",
      "Moving data to directory hdfs://0.0.0.0:9000/user/hive/warehouse/tabla1\n",
      "MapReduce Jobs Launched: \n",
      "Stage-Stage-1: Map: 1   Cumulative CPU: 22.55 sec   HDFS Read: 6597 HDFS Write: 3299 SUCCESS\n",
      "Total MapReduce CPU Time Spent: 22 seconds 550 msec\n",
      "OK\n",
      "Time taken: 63.401 seconds\n"
     ]
    }
   ],
   "source": [
    "%%hive\n",
    "DROP TABLE IF EXISTS tabla1;\n",
    "CREATE TABLE tabla1\n",
    "AS\n",
    "    SELECT\n",
    "        letra,\n",
    "        c3\n",
    "    FROM\n",
    "        t0\n",
    "    LATERAL VIEW\n",
    "        explode(c2) t0 AS letra;"
   ]
  },
  {
   "cell_type": "code",
   "execution_count": 68,
   "metadata": {},
   "outputs": [
    {
     "name": "stdout",
     "output_type": "stream",
     "text": [
      "SELECT * FROM tabla1 LIMIT 20;\n",
      "OK\n",
      "b\t{\"jjj\":3,\"bbb\":0,\"ddd\":9,\"ggg\":8,\"hhh\":2}\n",
      "g\t{\"jjj\":3,\"bbb\":0,\"ddd\":9,\"ggg\":8,\"hhh\":2}\n",
      "f\t{\"jjj\":3,\"bbb\":0,\"ddd\":9,\"ggg\":8,\"hhh\":2}\n",
      "a\t{\"ccc\":2,\"ddd\":0,\"aaa\":3,\"hhh\":9}\n",
      "f\t{\"ccc\":2,\"ddd\":0,\"aaa\":3,\"hhh\":9}\n",
      "c\t{\"ccc\":2,\"ddd\":0,\"aaa\":3,\"hhh\":9}\n",
      "f\t{\"ddd\":2,\"ggg\":5,\"ccc\":6,\"jjj\":1}\n",
      "e\t{\"ddd\":2,\"ggg\":5,\"ccc\":6,\"jjj\":1}\n",
      "a\t{\"ddd\":2,\"ggg\":5,\"ccc\":6,\"jjj\":1}\n",
      "c\t{\"ddd\":2,\"ggg\":5,\"ccc\":6,\"jjj\":1}\n",
      "a\t{\"hhh\":9,\"iii\":5,\"eee\":7,\"bbb\":1}\n",
      "b\t{\"hhh\":9,\"iii\":5,\"eee\":7,\"bbb\":1}\n",
      "f\t{\"iii\":6,\"ddd\":5,\"eee\":4,\"jjj\":3}\n",
      "g\t{\"iii\":6,\"ddd\":5,\"eee\":4,\"jjj\":3}\n",
      "d\t{\"iii\":6,\"ddd\":5,\"eee\":4,\"jjj\":3}\n",
      "a\t{\"iii\":6,\"ddd\":5,\"eee\":4,\"jjj\":3}\n",
      "c\t{\"bbb\":2,\"hhh\":0,\"ccc\":4,\"fff\":1,\"aaa\":7}\n",
      "d\t{\"bbb\":2,\"hhh\":0,\"ccc\":4,\"fff\":1,\"aaa\":7}\n",
      "g\t{\"aaa\":5,\"fff\":8,\"ddd\":2,\"iii\":0,\"jjj\":7,\"ccc\":1}\n",
      "d\t{\"aaa\":5,\"fff\":8,\"ddd\":2,\"iii\":0,\"jjj\":7,\"ccc\":1}\n",
      "Time taken: 0.429 seconds, Fetched: 20 row(s)\n"
     ]
    }
   ],
   "source": [
    "%%hive\n",
    "SELECT * FROM tabla1 LIMIT 20;"
   ]
  },
  {
   "cell_type": "code",
   "execution_count": 69,
   "metadata": {},
   "outputs": [
    {
     "name": "stdout",
     "output_type": "stream",
     "text": [
      "DESCRIBE tabla1;\n",
      "OK\n",
      "letra               \tchar(1)             \t                    \n",
      "c3                  \tmap<string,int>     \t                    \n",
      "Time taken: 0.072 seconds, Fetched: 2 row(s)\n"
     ]
    }
   ],
   "source": [
    "%%hive\n",
    "DESCRIBE tabla1;"
   ]
  },
  {
   "cell_type": "code",
   "execution_count": 72,
   "metadata": {},
   "outputs": [
    {
     "name": "stdout",
     "output_type": "stream",
     "text": [
      "DROP TABLE IF EXISTS tabla2;\n",
      "OK\n",
      "Time taken: 0.228 seconds\n",
      "CREATE TABLE tabla2\n",
      "AS\n",
      "    SELECT\n",
      "        letra,\n",
      "        key,\n",
      "        count(2)\n",
      "    FROM\n",
      "        tabla1\n",
      "    LATERAL VIEW\n",
      "        explode(c3) tabla1\n",
      "    GROUP BY\n",
      "        letra, key\n",
      "    ORDER BY\n",
      "        letra, key;\n",
      "WARNING: Hive-on-MR is deprecated in Hive 2 and may not be available in the future versions. Consider using a different execution engine (i.e. spark, tez) or using Hive 1.X releases.\n",
      "Query ID = root_20200209234748_0544086a-0b8c-419c-af35-79e9ecc93dfe\n",
      "Total jobs = 2\n",
      "Launching Job 1 out of 2\n",
      "Number of reduce tasks not specified. Estimated from input data size: 1\n",
      "In order to change the average load for a reducer (in bytes):\n",
      "  set hive.exec.reducers.bytes.per.reducer=<number>\n",
      "In order to limit the maximum number of reducers:\n",
      "  set hive.exec.reducers.max=<number>\n",
      "In order to set a constant number of reducers:\n",
      "  set mapreduce.job.reduces=<number>\n",
      "Starting Job = job_1581285798968_0019, Tracking URL = http://63fea19fc735:8088/proxy/application_1581285798968_0019/\n",
      "Kill Command = /usr/local/hadoop/bin/hadoop job  -kill job_1581285798968_0019\n",
      "Hadoop job information for Stage-1: number of mappers: 1; number of reducers: 1\n",
      "2020-02-09 23:48:17,066 Stage-1 map = 0%,  reduce = 0%\n",
      "2020-02-09 23:48:35,102 Stage-1 map = 100%,  reduce = 0%, Cumulative CPU 12.71 sec\n",
      "2020-02-09 23:48:54,954 Stage-1 map = 100%,  reduce = 100%, Cumulative CPU 29.67 sec\n",
      "MapReduce Total cumulative CPU time: 29 seconds 670 msec\n",
      "Ended Job = job_1581285798968_0019\n",
      "Launching Job 2 out of 2\n",
      "Number of reduce tasks determined at compile time: 1\n",
      "In order to change the average load for a reducer (in bytes):\n",
      "  set hive.exec.reducers.bytes.per.reducer=<number>\n",
      "In order to limit the maximum number of reducers:\n",
      "  set hive.exec.reducers.max=<number>\n",
      "In order to set a constant number of reducers:\n",
      "  set mapreduce.job.reduces=<number>\n",
      "Starting Job = job_1581285798968_0020, Tracking URL = http://63fea19fc735:8088/proxy/application_1581285798968_0020/\n",
      "Kill Command = /usr/local/hadoop/bin/hadoop job  -kill job_1581285798968_0020\n",
      "Hadoop job information for Stage-2: number of mappers: 1; number of reducers: 1\n",
      "2020-02-09 23:49:26,383 Stage-2 map = 0%,  reduce = 0%\n",
      "2020-02-09 23:49:41,408 Stage-2 map = 100%,  reduce = 0%, Cumulative CPU 5.76 sec\n",
      "2020-02-09 23:49:58,742 Stage-2 map = 100%,  reduce = 100%, Cumulative CPU 14.89 sec\n",
      "MapReduce Total cumulative CPU time: 14 seconds 890 msec\n",
      "Ended Job = job_1581285798968_0020\n",
      "Moving data to directory hdfs://0.0.0.0:9000/user/hive/warehouse/tabla2\n",
      "MapReduce Jobs Launched: \n",
      "Stage-Stage-1: Map: 1  Reduce: 1   Cumulative CPU: 29.67 sec   HDFS Read: 13794 HDFS Write: 1776 SUCCESS\n",
      "Stage-Stage-2: Map: 1  Reduce: 1   Cumulative CPU: 14.89 sec   HDFS Read: 7588 HDFS Write: 644 SUCCESS\n",
      "Total MapReduce CPU Time Spent: 44 seconds 560 msec\n",
      "OK\n",
      "Time taken: 133.925 seconds\n"
     ]
    }
   ],
   "source": [
    "%%hive\n",
    "DROP TABLE IF EXISTS tabla2;\n",
    "CREATE TABLE tabla2\n",
    "AS\n",
    "    SELECT\n",
    "        letra,\n",
    "        key,\n",
    "        count(2)\n",
    "    FROM\n",
    "        tabla1\n",
    "    LATERAL VIEW\n",
    "        explode(c3) tabla1\n",
    "    GROUP BY\n",
    "        letra, key\n",
    "    ORDER BY\n",
    "        letra, key;"
   ]
  },
  {
   "cell_type": "code",
   "execution_count": 73,
   "metadata": {},
   "outputs": [
    {
     "name": "stdout",
     "output_type": "stream",
     "text": [
      "SELECT * FROM tabla2 LIMIT 20;\n",
      "OK\n",
      "a\taaa\t5\n",
      "a\tbbb\t7\n",
      "a\tccc\t13\n",
      "a\tddd\t13\n",
      "a\teee\t7\n",
      "a\tfff\t10\n",
      "a\tggg\t8\n",
      "a\thhh\t8\n",
      "a\tiii\t7\n",
      "a\tjjj\t10\n",
      "b\taaa\t4\n",
      "b\tbbb\t7\n",
      "b\tccc\t5\n",
      "b\tddd\t7\n",
      "b\teee\t5\n",
      "b\tfff\t8\n",
      "b\tggg\t4\n",
      "b\thhh\t7\n",
      "b\tiii\t7\n",
      "b\tjjj\t5\n",
      "Time taken: 0.362 seconds, Fetched: 20 row(s)\n"
     ]
    }
   ],
   "source": [
    "%%hive\n",
    "SELECT * FROM tabla2 LIMIT 20;"
   ]
  },
  {
   "cell_type": "code",
   "execution_count": null,
   "metadata": {},
   "outputs": [],
   "source": []
  }
 ],
 "metadata": {
  "kernelspec": {
   "display_name": "Python 3",
   "language": "python",
   "name": "python3"
  },
  "language_info": {
   "codemirror_mode": {
    "name": "ipython",
    "version": 3
   },
   "file_extension": ".py",
   "mimetype": "text/x-python",
   "name": "python",
   "nbconvert_exporter": "python",
   "pygments_lexer": "ipython3",
   "version": "3.6.9"
  }
 },
 "nbformat": 4,
 "nbformat_minor": 4
}
